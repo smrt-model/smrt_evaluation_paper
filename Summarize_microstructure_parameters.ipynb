{
 "cells": [
  {
   "cell_type": "markdown",
   "metadata": {},
   "source": [
    "# This notebook outputs Table 1 microstructure statistics"
   ]
  },
  {
   "cell_type": "code",
   "execution_count": 1,
   "metadata": {},
   "outputs": [],
   "source": [
    "import pandas as pd\n",
    "import numpy as np\n",
    "import os\n",
    "\n",
    "from common_functions import symmetrize_microstructure, iqr, microstructure_table_format"
   ]
  },
  {
   "cell_type": "code",
   "execution_count": 2,
   "metadata": {},
   "outputs": [],
   "source": [
    "df_pamir09 = symmetrize_microstructure('data/PAMIR/1984May9sections_EMMS_acf_parameters_v1.0.csv')\n",
    "df_pamir10 = symmetrize_microstructure('data/PAMIR/1984May10sections_EMMS_acf_parameters_v1.0.csv')\n",
    "df_pamir = pd.concat([df_pamir09, df_pamir10], ignore_index=True)"
   ]
  },
  {
   "cell_type": "code",
   "execution_count": 3,
   "metadata": {},
   "outputs": [],
   "source": [
    "df_nosrex = symmetrize_microstructure('data/NoSREx3/nosrex3_CCN_acf_parameters_v0.1.csv')"
   ]
  },
  {
   "cell_type": "code",
   "execution_count": 4,
   "metadata": {},
   "outputs": [],
   "source": [
    "# ASMEx: have separate files for each slab\n",
    "microstructure_files = [os.path.join(root, name)\n",
    "             for root, dirs, files in os.walk('data/ASMEx/')\n",
    "             for name in files\n",
    "             if name.endswith((\"EMMS_acf_parameters_v1.0.csv\"))]\n",
    "\n",
    "# Generate list of dataframes\n",
    "df_list = []\n",
    "\n",
    "# Determine parameters for each slab, then combine in data frame\n",
    "[df_list.append(symmetrize_microstructure(f)) for f in microstructure_files]\n",
    "df_asmex = pd.concat(df_list, ignore_index=True)"
   ]
  },
  {
   "cell_type": "code",
   "execution_count": 5,
   "metadata": {},
   "outputs": [],
   "source": [
    "# Calculate and reformat median, interquartile range for all datasets\n",
    "asmex_med = microstructure_table_format(df_asmex.quantile(0.5))\n",
    "asmex_iqr = microstructure_table_format(iqr(df_asmex))\n",
    "pamir_med = microstructure_table_format(df_pamir.quantile(0.5))\n",
    "pamir_iqr = microstructure_table_format(iqr(df_pamir))\n",
    "nosrex_med = microstructure_table_format(df_nosrex.quantile(0.5))\n",
    "nosrex_iqr = microstructure_table_format(iqr(df_nosrex))"
   ]
  },
  {
   "cell_type": "code",
   "execution_count": 6,
   "metadata": {},
   "outputs": [
    {
     "data": {
      "text/html": [
       "<div>\n",
       "<style scoped>\n",
       "    .dataframe tbody tr th:only-of-type {\n",
       "        vertical-align: middle;\n",
       "    }\n",
       "\n",
       "    .dataframe tbody tr th {\n",
       "        vertical-align: top;\n",
       "    }\n",
       "\n",
       "    .dataframe thead th {\n",
       "        text-align: right;\n",
       "    }\n",
       "</style>\n",
       "<table border=\"1\" class=\"dataframe\">\n",
       "  <thead>\n",
       "    <tr style=\"text-align: right;\">\n",
       "      <th></th>\n",
       "      <th>ASMEx</th>\n",
       "      <th>aiqr</th>\n",
       "      <th>PAMIR</th>\n",
       "      <th>piqr</th>\n",
       "      <th>NoSREx</th>\n",
       "      <th>niqr</th>\n",
       "    </tr>\n",
       "  </thead>\n",
       "  <tbody>\n",
       "    <tr>\n",
       "      <th>density</th>\n",
       "      <td>258.03</td>\n",
       "      <td>94.53</td>\n",
       "      <td>396.82</td>\n",
       "      <td>65.80</td>\n",
       "      <td>217.11</td>\n",
       "      <td>86.68</td>\n",
       "    </tr>\n",
       "    <tr>\n",
       "      <th>d_shs</th>\n",
       "      <td>0.50</td>\n",
       "      <td>0.38</td>\n",
       "      <td>0.80</td>\n",
       "      <td>0.38</td>\n",
       "      <td>0.15</td>\n",
       "      <td>0.16</td>\n",
       "    </tr>\n",
       "    <tr>\n",
       "      <th>tau</th>\n",
       "      <td>0.10</td>\n",
       "      <td>0.12</td>\n",
       "      <td>0.10</td>\n",
       "      <td>0.05</td>\n",
       "      <td>0.11</td>\n",
       "      <td>0.02</td>\n",
       "    </tr>\n",
       "    <tr>\n",
       "      <th>l_ex</th>\n",
       "      <td>0.14</td>\n",
       "      <td>0.09</td>\n",
       "      <td>0.46</td>\n",
       "      <td>0.12</td>\n",
       "      <td>0.11</td>\n",
       "      <td>0.15</td>\n",
       "    </tr>\n",
       "    <tr>\n",
       "      <th>d_sph</th>\n",
       "      <td>0.41</td>\n",
       "      <td>0.28</td>\n",
       "      <td>1.23</td>\n",
       "      <td>0.31</td>\n",
       "      <td>0.32</td>\n",
       "      <td>0.44</td>\n",
       "    </tr>\n",
       "    <tr>\n",
       "      <th>xi_ts</th>\n",
       "      <td>0.20</td>\n",
       "      <td>0.13</td>\n",
       "      <td>0.53</td>\n",
       "      <td>0.15</td>\n",
       "      <td>0.14</td>\n",
       "      <td>0.19</td>\n",
       "    </tr>\n",
       "    <tr>\n",
       "      <th>domain_ts</th>\n",
       "      <td>1.46</td>\n",
       "      <td>2.67</td>\n",
       "      <td>501.79</td>\n",
       "      <td>340.06</td>\n",
       "      <td>2.21</td>\n",
       "      <td>333.12</td>\n",
       "    </tr>\n",
       "    <tr>\n",
       "      <th>xi_grf</th>\n",
       "      <td>0.14</td>\n",
       "      <td>0.10</td>\n",
       "      <td>0.37</td>\n",
       "      <td>0.11</td>\n",
       "      <td>0.10</td>\n",
       "      <td>0.14</td>\n",
       "    </tr>\n",
       "    <tr>\n",
       "      <th>domain_grf</th>\n",
       "      <td>1.70</td>\n",
       "      <td>331.72</td>\n",
       "      <td>485.40</td>\n",
       "      <td>333.33</td>\n",
       "      <td>8.12</td>\n",
       "      <td>334.10</td>\n",
       "    </tr>\n",
       "  </tbody>\n",
       "</table>\n",
       "</div>"
      ],
      "text/plain": [
       "             ASMEx    aiqr   PAMIR    piqr  NoSREx    niqr\n",
       "density     258.03   94.53  396.82   65.80  217.11   86.68\n",
       "d_shs         0.50    0.38    0.80    0.38    0.15    0.16\n",
       "tau           0.10    0.12    0.10    0.05    0.11    0.02\n",
       "l_ex          0.14    0.09    0.46    0.12    0.11    0.15\n",
       "d_sph         0.41    0.28    1.23    0.31    0.32    0.44\n",
       "xi_ts         0.20    0.13    0.53    0.15    0.14    0.19\n",
       "domain_ts     1.46    2.67  501.79  340.06    2.21  333.12\n",
       "xi_grf        0.14    0.10    0.37    0.11    0.10    0.14\n",
       "domain_grf    1.70  331.72  485.40  333.33    8.12  334.10"
      ]
     },
     "execution_count": 6,
     "metadata": {},
     "output_type": "execute_result"
    }
   ],
   "source": [
    "# Build dataframe from stats data series\n",
    "pd.DataFrame({'ASMEx':asmex_med, 'aiqr':asmex_iqr, 'PAMIR':pamir_med, 'piqr':pamir_iqr,\n",
    "            'NoSREx': nosrex_med, 'niqr':nosrex_iqr})"
   ]
  },
  {
   "cell_type": "code",
   "execution_count": 7,
   "metadata": {},
   "outputs": [
    {
     "data": {
      "text/plain": [
       "562"
      ]
     },
     "execution_count": 7,
     "metadata": {},
     "output_type": "execute_result"
    }
   ],
   "source": [
    "len(df_asmex)"
   ]
  },
  {
   "cell_type": "code",
   "execution_count": 8,
   "metadata": {},
   "outputs": [
    {
     "data": {
      "text/plain": [
       "10"
      ]
     },
     "execution_count": 8,
     "metadata": {},
     "output_type": "execute_result"
    }
   ],
   "source": [
    "len(df_pamir)"
   ]
  },
  {
   "cell_type": "code",
   "execution_count": 9,
   "metadata": {},
   "outputs": [
    {
     "data": {
      "text/plain": [
       "320"
      ]
     },
     "execution_count": 9,
     "metadata": {},
     "output_type": "execute_result"
    }
   ],
   "source": [
    "len(df_nosrex)"
   ]
  }
 ],
 "metadata": {
  "kernelspec": {
   "display_name": "Python 3",
   "language": "python",
   "name": "python3"
  },
  "language_info": {
   "codemirror_mode": {
    "name": "ipython",
    "version": 3
   },
   "file_extension": ".py",
   "mimetype": "text/x-python",
   "name": "python",
   "nbconvert_exporter": "python",
   "pygments_lexer": "ipython3",
   "version": "3.7.7"
  }
 },
 "nbformat": 4,
 "nbformat_minor": 4
}
