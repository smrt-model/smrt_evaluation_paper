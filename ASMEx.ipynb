{
 "cells": [
  {
   "cell_type": "markdown",
   "metadata": {},
   "source": [
    "# This notebook produces \n",
    "\n",
    " 1. Box plots of SSA, density and anisotropy for ASMEx slabs (fig 2)\n",
    " 2. Scatter plot of ASMEx absorption coefficients (fig 7)\n",
    " 3. Scatter plot of ASMEx scattering coefficients (fig 8)\n",
    " 4. Brightness temperature of slabs for ASMEx data (fig 6a)"
   ]
  },
  {
   "cell_type": "code",
   "execution_count": null,
   "metadata": {},
   "outputs": [],
   "source": [
    "# Import statements\n",
    "import os\n",
    "import numpy as np\n",
    "import pandas as pd\n",
    "import matplotlib.pyplot as plt\n",
    "import xarray as xr\n",
    "from matplotlib.lines import Line2D\n",
    "from mpl_toolkits.axes_grid1.inset_locator import zoomed_inset_axes, mark_inset\n",
    "from matplotlib.ticker import LogLocator, NullFormatter\n",
    "\n",
    "\n",
    "# local import\n",
    "from smrt import make_snowpack, make_emmodel, sensor_list, make_model, make_atmosphere\n",
    "from smrt.substrate.reflector import make_reflector\n",
    "from smrt.core.globalconstants import DENSITY_OF_ICE, FREEZING_POINT, C_SPEED\n",
    "from common_functions import symmetrize_microstructure, rmse, me, regression_coefficient, microstructure_colour_list\n",
    "from common_functions import microstructure_short_labels, microstructure_symbols"
   ]
  },
  {
   "cell_type": "markdown",
   "metadata": {},
   "source": [
    "### Useful functions"
   ]
  },
  {
   "cell_type": "code",
   "execution_count": null,
   "metadata": {},
   "outputs": [],
   "source": [
    "# Functions for plot characteristics\n",
    "def slab_symbol_list():\n",
    "    return ['o', 'v', '^', '<', '>', 's', 'p', 'P', '*', 'h', 'H', 'X', 'D', 'd']\n",
    "\n",
    "def frequency_colour_list():\n",
    "    return {18.7e9: 'c', 21e9:'b', 36.5e9:'r', 90e9:'k'}\n",
    "\n",
    "def set_frequency_in_Hz(df):\n",
    "    # Converts GHz to Hz to be consistent with simulations and corrects 89GHz naming error to 90GHz\n",
    "\n",
    "    freq = list(df.frequency.values)\n",
    "    # Find where frequency is in list\n",
    "    fil = freq.index(89)\n",
    "    # Replace 89 with 90\n",
    "    freq[fil] = 90\n",
    "    # Rewrite coordinates in Hz\n",
    "    df['frequency'] = np.array(freq)*1e9\n",
    "    return df\n",
    "\n",
    "def wavenumber(f):\n",
    "    return 2 * np.pi * f / C_SPEED"
   ]
  },
  {
   "cell_type": "markdown",
   "metadata": {},
   "source": [
    "### Read in field data\n",
    "\n",
    "#### Microstructure"
   ]
  },
  {
   "cell_type": "code",
   "execution_count": null,
   "metadata": {},
   "outputs": [],
   "source": [
    "# Read microstructure\n",
    "# Get list of files\n",
    "microstructure_files = [os.path.join(root, name)\n",
    "             for root, dirs, files in os.walk('data/ASMEx/')\n",
    "             for name in files\n",
    "             if name.endswith((\"EMMS_acf_parameters_v1.0.csv\"))]\n",
    "\n",
    "# Create dataframe of microstructure properties per subsample, assuming spherical symmetry\n",
    "df = pd.concat((symmetrize_microstructure(f) for f in microstructure_files), ignore_index=True)"
   ]
  },
  {
   "cell_type": "markdown",
   "metadata": {},
   "source": [
    "#### Temperature"
   ]
  },
  {
   "cell_type": "code",
   "execution_count": null,
   "metadata": {},
   "outputs": [],
   "source": [
    "# Read ASMEx temperature and create dataframe\n",
    "# This file has no headers, so they must be defined\n",
    "slab_list = ['A01','A02','A03','A04','A05','A06','A07','B01','B02','B03','B04','B05','B06','B07']\n",
    "#Rows 1, 2, and 3 are the temperatures on side 1, and rows 4, 5, and 6 are the temperatures on side 2.\n",
    "#Rows 1 and 4 are temperatures at 15cm from the base,\n",
    "#Rows 2 and 5 are temperatures at 10 cm from the base,\n",
    "#Rows 3 and 6 are temperatures at 5 cm from the base.\n",
    "dft = pd.read_csv('data/ASMEx/asmex_temps.csv', names=slab_list) + FREEZING_POINT"
   ]
  },
  {
   "cell_type": "markdown",
   "metadata": {},
   "source": [
    "#### Scattering and absorption coefficients"
   ]
  },
  {
   "cell_type": "code",
   "execution_count": null,
   "metadata": {},
   "outputs": [],
   "source": [
    "# Read ASMEx observed scattering coefficients\n",
    "## Reads in .xlsx, sets index to be slab and frequency\n",
    "## Then converts to xarray and removes unused data\n",
    "Vobs = pd.read_excel('data/ASMEx/200504_ASMEx_FCM_values.xlsx', sheet_name='V-Pol').set_index(['Sample', 'f (ghz)']).to_xarray().drop(labels=['eabs', 'emet', \n",
    "                                                                                                           'r0', 't0', 'ya\\'', 'ys\\''])\n",
    "Vobs = set_frequency_in_Hz(Vobs.rename({'Sample':'slab', 'f (ghz)':'frequency'}))\n",
    "Hobs = pd.read_excel('data/ASMEx/200504_ASMEx_FCM_values.xlsx', sheet_name='H-Pol').set_index(['Sample', 'f (ghz)']).to_xarray().drop(labels=['eabs', 'emet', \n",
    "                                                                                                           'r0', 't0', 'ya\\'', 'ys\\''])\n",
    "Hobs = set_frequency_in_Hz(Hobs.rename({'Sample':'slab', 'f (ghz)':'frequency'}))"
   ]
  },
  {
   "cell_type": "markdown",
   "metadata": {},
   "source": [
    "#### Brightness temperature"
   ]
  },
  {
   "cell_type": "code",
   "execution_count": null,
   "metadata": {},
   "outputs": [],
   "source": [
    "# Read ASMEx TB\n",
    "obs_tb = pd.read_csv('data/ASMEx/asmex_tb.csv').dropna().set_index(['Sample', 'Freq']).to_xarray().rename({'Sample':'slab', 'Freq':'frequency'})\n",
    "# Change units to be consistent with simulations\n",
    "obs_tb = set_frequency_in_Hz(obs_tb)"
   ]
  },
  {
   "cell_type": "markdown",
   "metadata": {},
   "source": [
    "#### Slab thickness"
   ]
  },
  {
   "cell_type": "code",
   "execution_count": null,
   "metadata": {},
   "outputs": [],
   "source": [
    "# Read ASMEx depth\n",
    "obs_depth = pd.read_csv('data/ASMEx/asmex_depths.csv', encoding='raw_unicode_escape').set_index('Slab Reference').dropna()"
   ]
  },
  {
   "cell_type": "markdown",
   "metadata": {},
   "source": [
    "#### Slab emissivity"
   ]
  },
  {
   "cell_type": "code",
   "execution_count": null,
   "metadata": {},
   "outputs": [],
   "source": [
    "# Read ASMEx Emissivities\n",
    "emiss = pd.read_csv('data/ASMEx/asmex_emissivities.csv').set_index('Slab').T.drop('Design')\n",
    "# Add in NaN's for A04: no measurements available\n",
    "emiss.insert(3, 'A04', [np.nan]*len(emiss))\n",
    "\n",
    "# Deal with missing data - replace with mean of all available observations at that freq / pol\n",
    "emiss = emiss.T.fillna(np.round(emiss.mean(axis=1),2)).T\n",
    "\n",
    "# Extract frequency and polarization from index\n",
    "emiss['frequency'] = emiss.index.str[:-1]\n",
    "emiss['polarization'] = emiss.index.str[-1]\n",
    "\n",
    "# Rename 89 GHz to 90 GHz - naming problem in original file\n",
    "emiss.replace(to_replace='89', value='90', inplace=True)\n",
    "emiss.replace(to_replace='19', value='18.7', inplace=True)\n",
    "emiss.replace(to_replace='37', value='36.5', inplace=True)\n",
    "\n",
    "# Put into xarray format\n",
    "emiss = emiss.set_index(['frequency', 'polarization']).to_xarray()\n",
    "\n",
    "# Change frequency to GHz\n",
    "emiss['frequency'] = [(float(m)*1e9) for m in emiss.frequency.values]"
   ]
  },
  {
   "cell_type": "markdown",
   "metadata": {},
   "source": [
    "### Model configuration"
   ]
  },
  {
   "cell_type": "code",
   "execution_count": null,
   "metadata": {},
   "outputs": [],
   "source": [
    "# ASMEx radiometers (21GHz is most complete dataset)\n",
    "rad19 = sensor_list.passive(18.7e9, 50)\n",
    "rad21 = sensor_list.passive(21e9, 50)\n",
    "rad37 = sensor_list.passive(36.5e9, 50)\n",
    "rad90 = sensor_list.passive(90e9, 50)\n",
    "rads = sensor_list.passive([18.7e9, 21e9, 36.5e9, 90e9, 150e9], 50)"
   ]
  },
  {
   "cell_type": "code",
   "execution_count": null,
   "metadata": {},
   "outputs": [],
   "source": [
    "# Run SMRT to get TB\n",
    "model = make_model('iba', 'dort', rtsolver_options=dict(error_handling='nan'))"
   ]
  },
  {
   "cell_type": "markdown",
   "metadata": {},
   "source": [
    "## 1. Figure 2 - box plots of SSA, density and anisotropy"
   ]
  },
  {
   "cell_type": "code",
   "execution_count": null,
   "metadata": {},
   "outputs": [],
   "source": [
    "# Need to read in microstructure data again, but without spherical symmetry assumption\n",
    "df = pd.concat((pd.read_csv(f) for f in microstructure_files), ignore_index=True)\n",
    "# Extract file id and add to dataframe\n",
    "df['fileid'] = df[['1:filename']]\n",
    "df['id'] = df.fileid.str[43:47]\n",
    "# Calculate anisotropy factor from correlation lengths and add to dataframe\n",
    "df['aniso'] = 2.0 * df[' 5:l_c_z'] / (df[' 3:l_c_x'] + df[' 4:l_c_y'])\n",
    "\n",
    "# Plot graph\n",
    "flierprops = dict(marker='o', markerfacecolor='black', markersize=2, linestyle='none')\n",
    "plt.close()\n",
    "plt.rcParams.update({'font.size': 16})\n",
    "f, (ax1, ax2, ax3) = plt.subplots(3, sharex=True, sharey=False, figsize=(10,8))\n",
    "df.boxplot(column=[' 2:phi_2'], by=['id'], grid=False, rot=90, flierprops=flierprops, ax=ax1)\n",
    "df.boxplot(column=[' 5:l_c_z'], by=['id'], grid=False, rot=90, flierprops=flierprops, ax=ax2)\n",
    "df.boxplot(column=['aniso'], by=['id'], grid=False, rot=90, flierprops=flierprops, ax=ax3)\n",
    "ax1.set_title('')\n",
    "ax2.set_title('')\n",
    "ax3.set_title('')\n",
    "ax1.set_ylabel('$\\phi$')\n",
    "ax2.set_ylabel('$l_z$ (mm)')\n",
    "ax3.set_ylabel('$2l_z/(l_x+l_y)$')\n",
    "ax3.set_xlabel('Slab Sample')\n",
    "ax3.plot(np.ones(len(np.unique(df.id))+2),'r--')\n",
    "ax1.yaxis.set_major_locator(plt.MaxNLocator(6))\n",
    "ax2.yaxis.set_major_locator(plt.MaxNLocator(5))\n",
    "ax3.yaxis.set_major_locator(plt.MaxNLocator(5))\n",
    "ax3.set_xlim(0,len(np.unique(df.id))+1)\n",
    "plt.suptitle('')\n",
    "\n",
    "# Seasonal difference\n",
    "ax1.axvline(x=1+len(np.unique(df.id))/2,color='lightgray')\n",
    "ax2.axvline(x=1+len(np.unique(df.id))/2,color='lightgray')\n",
    "ax3.axvline(x=1+len(np.unique(df.id))/2,color='lightgray')\n",
    "\n",
    "# Fine-tune figure; make subplots close to each other and hide x ticks for\n",
    "# all but bottom plot.\n",
    "f.subplots_adjust(hspace=0)\n",
    "plt.setp([a.get_xticklabels() for a in f.axes[:-1]], visible=False)"
   ]
  },
  {
   "cell_type": "markdown",
   "metadata": {},
   "source": [
    "## 2. Absorption coefficient\n",
    "\n",
    "#### Useful functions"
   ]
  },
  {
   "cell_type": "code",
   "execution_count": null,
   "metadata": {},
   "outputs": [],
   "source": [
    "# Calculates absorption coefficient, given SMRT snowpack layers\n",
    "def calc_ka(sp):\n",
    "    # Collate all ka for a given snowpack (sp)\n",
    "    ka19 = [make_emmodel('iba', rad19, sp.layers[l]).ka for l in range(len(sp.layers))]\n",
    "    ka21 = [make_emmodel('iba', rad21, sp.layers[l]).ka for l in range(len(sp.layers))]\n",
    "    ka37 = [make_emmodel('iba', rad37, sp.layers[l]).ka for l in range(len(sp.layers))]\n",
    "    ka90 = [make_emmodel('iba', rad90, sp.layers[l]).ka for l in range(len(sp.layers))]\n",
    "    ka = xr.DataArray([ka19, ka21, ka37, ka90], coords=[('frequency', [18.7e9, 21e9, 36.5e9, 90e9]), \n",
    "            ('layer', range(len(sp.layers)))]).assign_coords(microstructure=sp.layers[0].microstructure_model.__name__)\n",
    "    return ka\n",
    "\n",
    "# Generates snowpack layers, applies function to calculate absorption coefficient\n",
    "def slab_ka(df, temperature, slab):\n",
    "    # Returns all ka for a particular slab\n",
    "    # Make snowpack for each microstructure\n",
    "    sne = calc_ka(make_snowpack(thickness=np.ones(len(df)), temperature=temperature, density=df.density, \n",
    "                        microstructure_model=\"exponential\", corr_length=df.l_ex))\n",
    "    sni = calc_ka(make_snowpack(thickness=np.ones(len(df)), temperature=temperature, density=df.density, \n",
    "                        microstructure_model=\"independent_sphere\", radius=df.d_sph/2))\n",
    "    sns = calc_ka(make_snowpack(thickness=np.ones(len(df)), temperature=temperature, density=df.density, \n",
    "                        microstructure_model=\"sticky_hard_spheres\", radius=df.d_shs/2, stickiness=df.tau))\n",
    "    snt = calc_ka(make_snowpack(thickness=np.ones(len(df)), temperature=temperature, density=df.density, \n",
    "                        microstructure_model=\"teubner_strey\", corr_length=df.xi_ts, repeat_distance=df.domain_ts))\n",
    "    sng = calc_ka(make_snowpack(thickness=np.ones(len(df)), temperature=temperature, density=df.density, \n",
    "                        microstructure_model=\"gaussian_random_field\", corr_length=df.xi_grf, repeat_distance=df.domain_grf))\n",
    "    return xr.concat([sne, sni, sns, snt, sng], dim='microstructure').assign_coords(slab=slab)\n",
    "\n",
    "# Plots obs vs sims for a particular frequency and microstructure model\n",
    "def slab_scatter_plot(frequency, microstructure, Hobs, Vobs, sims):\n",
    "    # Scale by 1/k0\n",
    "    scale = 1 / wavenumber(frequency)\n",
    "    # Calculate mean of Hobs and Vobs\n",
    "    obs_mean = (Hobs.sel(frequency=frequency) + Vobs.sel(frequency=frequency)) / 2\n",
    "    sim_mean = sims.sel(microstructure=microstructure, frequency=frequency).mean(dim='layer')\n",
    "    # Calculate y error bars (x error bars calculated by slab in plt.errorbar call below)\n",
    "    upper_yerr = sims.sel(microstructure=microstructure, frequency=frequency).max(dim='layer') - sim_mean\n",
    "    lower_yerr = sim_mean - sims.sel(microstructure=microstructure, frequency=frequency).min(dim='layer')\n",
    "\n",
    "    [ax.errorbar(scale * obs_mean.sel(slab=sl).ya, scale * sim_mean.sel(slab=sl), \n",
    "                  yerr=[[scale * lower_yerr.sel(slab=sl)], [scale * upper_yerr.sel(slab=sl)]], # lower then upper\n",
    "                  xerr=[[scale * (obs_mean.sel(slab=sl).ya - min(Vobs.ya.sel(frequency=frequency, slab=sl), Hobs.ya.sel(frequency=frequency, slab=sl)))], \n",
    "                        [scale * (max(Vobs.ya.sel(frequency=frequency, slab=sl), Hobs.ya.sel(frequency=frequency, slab=sl)) - obs_mean.sel(slab=sl).ya)]],\n",
    "                  marker=slab_symbol_list()[i], c=frequency_colour_list()[float(frequency)], markersize=14,\n",
    "                alpha=0.5) for i, sl in enumerate(slab_list)]\n",
    "    \n",
    "def slab_scatter_plot_noscale(frequency, microstructure, Hobs, Vobs, sims):\n",
    "\n",
    "    plt.yscale('log')\n",
    "    plt.xscale('log')\n",
    "    # Calculate mean of Hobs and Vobs\n",
    "    obs_mean = (Hobs.sel(frequency=frequency) + Vobs.sel(frequency=frequency)) / 2\n",
    "    sim_mean = sims.sel(microstructure=microstructure, frequency=frequency).mean(dim='layer')\n",
    "    # Calculate y error bars (x error bars calculated by slab in plt.errorbar call below)\n",
    "    upper_yerr = sims.sel(microstructure=microstructure, frequency=frequency).max(dim='layer') - sim_mean\n",
    "    lower_yerr = sim_mean - sims.sel(microstructure=microstructure, frequency=frequency).min(dim='layer')\n",
    "\n",
    "    [ax.errorbar(obs_mean.sel(slab=sl).ya, sim_mean.sel(slab=sl), \n",
    "                  yerr=[[lower_yerr.sel(slab=sl)], [upper_yerr.sel(slab=sl)]], # lower then upper\n",
    "                  xerr=[[(obs_mean.sel(slab=sl).ya - min(Vobs.ya.sel(frequency=frequency, slab=sl), Hobs.ya.sel(frequency=frequency, slab=sl)))], \n",
    "                        [(max(Vobs.ya.sel(frequency=frequency, slab=sl), Hobs.ya.sel(frequency=frequency, slab=sl)) - obs_mean.sel(slab=sl).ya)]],\n",
    "                  marker=slab_symbol_list()[i], c=frequency_colour_list()[float(frequency)], markersize=14,\n",
    "                alpha=0.5) for i, sl in enumerate(slab_list)]"
   ]
  },
  {
   "cell_type": "markdown",
   "metadata": {},
   "source": [
    "#### Calculation of absorption coefficients"
   ]
  },
  {
   "cell_type": "code",
   "execution_count": null,
   "metadata": {},
   "outputs": [],
   "source": [
    "ka_list = [] # list of all ka per slab: to be combined in xarray\n",
    "for sl in slab_list: \n",
    "    # Get observed slab temperature\n",
    "    temperature = dft.mean()[sl]\n",
    "    # Get list of files that relate to slab\n",
    "    slab_files = [f for f in microstructure_files if sl in f]\n",
    "    # Make microstructure dataframe out of list\n",
    "    df = pd.concat((symmetrize_microstructure(f) for f in slab_files), ignore_index=True)\n",
    "    # Add slab ka to list\n",
    "    ka_list.append(slab_ka(df, temperature, sl))\n",
    "all_ka = xr.concat(ka_list, dim='slab') # NB will be NaNs in here as not all slabs have same number of layers"
   ]
  },
  {
   "cell_type": "markdown",
   "metadata": {},
   "source": [
    "#### Plot Figure 7"
   ]
  },
  {
   "cell_type": "code",
   "execution_count": null,
   "metadata": {},
   "outputs": [],
   "source": [
    "plt.close()\n",
    "plt.rcParams.update({'font.size': 16})\n",
    "fig, ax = plt.subplots(figsize=(10, 10))\n",
    "\n",
    "frequency_list = all_ka.frequency.values\n",
    "\n",
    "# Plot ka for each frequency\n",
    "[slab_scatter_plot(f, 'Exponential', Hobs, Vobs, all_ka) for f in frequency_list]\n",
    "\n",
    "\n",
    "# 1:1 line\n",
    "xmin = 0\n",
    "xmax = 0.002\n",
    "ax.plot([xmin, xmax], [xmin, xmax], 'b--', alpha=0.2)\n",
    "plt.xlim(xmin,xmax)\n",
    "plt.ylim(xmin,xmax)\n",
    "    \n",
    "# Custom legend\n",
    "# Slab\n",
    "legend_elements1 = [Line2D([0], [0], marker=slab_symbol_list()[i], color='w', label=sl,\n",
    "                          markerfacecolor='grey', markersize=12) for i, sl in enumerate(slab_list)]\n",
    "legend1 = ax.legend(handles=legend_elements1, loc='upper left', ncol=2, title='Slab (symbol)')\n",
    "# Frequency\n",
    "legend_elements2 = [Line2D([0], [0], marker='s', color='w', label=f/1e9,\n",
    "                          markerfacecolor=frequency_colour_list()[f], markersize=12) for f in frequency_list]\n",
    "legend2 = ax.legend(handles=legend_elements2, loc='lower right', title='Frequency [GHz]', ncol=2)\n",
    "\n",
    "ax.add_artist(legend1)\n",
    "ax.add_artist(legend2)\n",
    "\n",
    "ax.set_xlabel('Observed $\\kappa_a$ / $k_0$ []')\n",
    "ax.set_ylabel('Simulated $\\kappa_a$ / $k_0$ []')\n",
    "ax.set_xticks(np.arange(0, 0.0025, 0.0005))\n",
    "ax.set_yticks(np.arange(0, 0.0025, 0.0005))\n",
    "\n",
    "plt.savefig('Fig7.png')"
   ]
  },
  {
   "cell_type": "markdown",
   "metadata": {},
   "source": [
    "#### Calculate error statistics"
   ]
  },
  {
   "cell_type": "code",
   "execution_count": null,
   "metadata": {},
   "outputs": [],
   "source": [
    "# Calc RMSE, mean error\n",
    "obs_mean = (Hobs + Vobs).ya / 2\n",
    "sim_mean = all_ka.sel(microstructure='Exponential').mean(dim='layer')"
   ]
  },
  {
   "cell_type": "code",
   "execution_count": null,
   "metadata": {},
   "outputs": [],
   "source": [
    "print (rmse(obs_mean, sim_mean))\n",
    "print (me(obs_mean, sim_mean))\n",
    "print (regression_coefficient(obs_mean.isel(frequency=slice(0,4)), sim_mean))"
   ]
  },
  {
   "cell_type": "markdown",
   "metadata": {},
   "source": [
    "## 3. Scattering coefficient\n",
    "\n",
    "#### Useful functions"
   ]
  },
  {
   "cell_type": "code",
   "execution_count": null,
   "metadata": {},
   "outputs": [],
   "source": [
    "# Calculates scattering coefficient, given SMRT snowpack layers\n",
    "def calc_ks(sp):\n",
    "    # Collate all ka for a given snowpack (sp)\n",
    "    ks19 = [make_emmodel('iba', rad19, sp.layers[l]).ks for l in range(len(sp.layers))]\n",
    "    ks21 = [make_emmodel('iba', rad21, sp.layers[l]).ks for l in range(len(sp.layers))]\n",
    "    ks37 = [make_emmodel('iba', rad37, sp.layers[l]).ks for l in range(len(sp.layers))]\n",
    "    ks90 = [make_emmodel('iba', rad90, sp.layers[l]).ks for l in range(len(sp.layers))]\n",
    "    ks = xr.DataArray([ks19, ks21, ks37, ks90], coords=[('frequency', [18.7e9, 21e9, 36.5e9, 90e9]), \n",
    "            ('layer', range(len(sp.layers)))]).assign_coords(microstructure=sp.layers[0].microstructure_model.__name__)\n",
    "    return ks\n",
    "\n",
    "# Generates snowpack layers, applies function to calculate absorption coefficient\n",
    "def slab_ks(df, temperature, slab):\n",
    "    # Returns all ka for a particular slab\n",
    "    # Make snowpack for each microstructure\n",
    "    sne = calc_ks(make_snowpack(thickness=np.ones(len(df)), temperature=temperature, density=df.density, \n",
    "                        microstructure_model=\"exponential\", corr_length=df.l_ex))\n",
    "    sni = calc_ks(make_snowpack(thickness=np.ones(len(df)), temperature=temperature, density=df.density, \n",
    "                        microstructure_model=\"independent_sphere\", radius=df.d_sph/2))\n",
    "    sns = calc_ks(make_snowpack(thickness=np.ones(len(df)), temperature=temperature, density=df.density, \n",
    "                        microstructure_model=\"sticky_hard_spheres\", radius=df.d_shs/2, stickiness=df.tau))\n",
    "    snt = calc_ks(make_snowpack(thickness=np.ones(len(df)), temperature=temperature, density=df.density, \n",
    "                        microstructure_model=\"teubner_strey\", corr_length=df.xi_ts, repeat_distance=df.domain_ts))\n",
    "    sng = calc_ks(make_snowpack(thickness=np.ones(len(df)), temperature=temperature, density=df.density, \n",
    "                        microstructure_model=\"gaussian_random_field\", corr_length=df.xi_grf, repeat_distance=df.domain_grf))\n",
    "    return xr.concat([sne, sni, sns, snt, sng], dim='microstructure').assign_coords(slab=slab)\n",
    "\n",
    "\n",
    "\n",
    "# Plots scattering coefficients vs retrieved value for slab\n",
    "def ks_obs_scatter_plot_noscale(microstructure, hide_ax=False):\n",
    "    # Plots obs vs sims for a particular frequency and microstructure model\n",
    "    \n",
    "    plt.yscale('log')\n",
    "    plt.xscale('log')\n",
    "    xmin = 1e-4\n",
    "    xmax = 1e3 # Unscaled\n",
    "    for f in all_ks.coords['frequency'].sortby(all_ks.coords['frequency'], ascending=False):\n",
    "\n",
    "\n",
    "        # Calculate mean of Hobs and Vobs\n",
    "        obs_mean = (Hobs.sel(frequency=f) + Vobs.sel(frequency=f)) / 2\n",
    "        sim_mean = all_ks.sel(microstructure=microstructure, frequency=f).mean(dim='layer')\n",
    "        # Calculate y error bars (x error bars calculated by slab in plt.errorbar call below)\n",
    "        upper_yerr = all_ks.sel(microstructure=microstructure, frequency=f).max(dim='layer') - sim_mean\n",
    "        lower_yerr = sim_mean - all_ks.sel(microstructure=microstructure, frequency=f).min(dim='layer')\n",
    "\n",
    "        [plt.errorbar(obs_mean.sel(slab=sl).ys, sim_mean.sel(slab=sl), \n",
    "                      yerr=[[lower_yerr.sel(slab=sl)], [upper_yerr.sel(slab=sl)]], # lower then upper\n",
    "                      xerr=[[(obs_mean.sel(slab=sl).ys - min(Vobs.ys.sel(frequency=f, slab=sl), Hobs.ys.sel(frequency=f, slab=sl)))], \n",
    "                            [(max(Vobs.ys.sel(frequency=f, slab=sl), Hobs.ys.sel(frequency=f, slab=sl)) - obs_mean.sel(slab=sl).ys)]],\n",
    "                          marker='.', ls='--', linewidth=0.5, alpha=0.5, markersize=6,\n",
    "                          c=frequency_colour_list()[float(f)]) for i, sl in enumerate(slab_list)]\n",
    "    \n",
    "    plt.plot([xmin,xmax], [xmin,xmax], 'k--', alpha=0.2)\n",
    "    plt.xlim(xmin,xmax)\n",
    "    plt.ylim(xmin,xmax)\n",
    "    # Calc best fit line\n",
    "    obs = (Hobs.ys + Vobs.ys)/2\n",
    "    # Exclude 150GHz obs\n",
    "    x = obs.isel(frequency=slice(0,4))\n",
    "\n",
    "    gradient, intercept, rsq_value = regression_coefficient(x, all_ks.sel(microstructure=microstructure).mean(dim='layer'))\n",
    "    \n",
    "    # Hide axis labels\n",
    "    if hide_ax==True:\n",
    "        plt.xticks([])\n",
    "    else:\n",
    "        plt.minorticks_on()\n",
    "        plt.xlabel('$\\overline{\\kappa_s}$ [$m^{-1}$]') # Unscaled\n",
    "    plt.yticks([]) # Hide these for all figures\n",
    "\n",
    "    txt = 'r$^2$=' + str(np.round(rsq_value,2))\n",
    "    plt.text(1e-3,1e2,txt) # Unscaled)\n",
    "\n",
    "# Plots scattering coefficients for one microstructure model vs another\n",
    "def plot_ks_noscale(micro1, micro2, hide_ax=False):\n",
    "    \n",
    "    # log axis\n",
    "    plt.yscale('log')\n",
    "    plt.xscale('log')\n",
    "    xmin = 1e-6 # Log\n",
    "    xmax = 1e4 # Log\n",
    "\n",
    "    [plt.scatter(all_ks.sel(microstructure=micro1, frequency=f), all_ks.sel(microstructure=micro2, frequency=f) ,\n",
    "                marker='.', color=(frequency_colour_list()[float(f)]), alpha=0.5)\n",
    "         for f in all_ks.coords['frequency'].sortby(all_ks.coords['frequency'], ascending=False)]\n",
    "    plt.plot([xmin, xmax], [xmin,xmax], 'k--', alpha=0.2)\n",
    "    plt.xlim(xmin,xmax)\n",
    "    plt.ylim(xmin,xmax)\n",
    "    gradient, intercept, rsq_value = regression_coefficient(all_ks.sel(microstructure=micro1), all_ks.sel(microstructure=micro2))\n",
    "\n",
    "    \n",
    "    # r^2 value\n",
    "    txt = 'r$^2$=' + str(np.round(rsq_value,2))\n",
    "\n",
    "    # Hide axis labels\n",
    "    if hide_ax==True:\n",
    "        plt.xticks([])\n",
    "    else:\n",
    "        plt.xlabel('$\\kappa_s$ [$m^{-1}$]') # Unscaled\n",
    "    plt.yticks([]) # Hide these for all figures\n",
    "    plt.text(1e-5, 4e2, txt) # Log "
   ]
  },
  {
   "cell_type": "markdown",
   "metadata": {},
   "source": [
    "#### Generate scattering coefficients"
   ]
  },
  {
   "cell_type": "code",
   "execution_count": null,
   "metadata": {},
   "outputs": [],
   "source": [
    "ks_list = [] # list of all ka per slab: to be combined in xarray\n",
    "for sl in slab_list: \n",
    "    # Get observed slab temperature\n",
    "    temperature = dft.mean()[sl]\n",
    "    # Get list of files that relate to slab\n",
    "    slab_files = [f for f in microstructure_files if sl in f]\n",
    "    # Make microstructure dataframe out of list\n",
    "    df = pd.concat((symmetrize_microstructure(f) for f in slab_files), ignore_index=True)\n",
    "    # Add slab ka to list\n",
    "    ks_list.append(slab_ks(df, temperature, sl))\n",
    "all_ks = xr.concat(ks_list, dim='slab') # NB will be NaNs in here as not all slabs have same number of layers"
   ]
  },
  {
   "cell_type": "markdown",
   "metadata": {},
   "source": [
    "#### Plot scattering coefficients - figure 8"
   ]
  },
  {
   "cell_type": "code",
   "execution_count": null,
   "metadata": {},
   "outputs": [],
   "source": [
    "plt.close()\n",
    "plt.rcParams.update({'font.size': 10})\n",
    "fig = plt.figure(constrained_layout=False, figsize=(8,8))\n",
    "spec = fig.add_gridspec(ncols=5, nrows=5, wspace=0.05, hspace=0.05)\n",
    "\n",
    "\n",
    "# Col 1: OBS\n",
    "fig.add_subplot(spec[0,0], aspect='equal')\n",
    "plt.title('OBS', fontsize=14)\n",
    "ks_obs_scatter_plot_noscale('GaussianRandomField', hide_ax=True)\n",
    "plt.ylabel('GRF', fontsize=14, rotation='horizontal', labelpad=20)\n",
    "\n",
    "fig.add_subplot(spec[1,0], aspect='equal')\n",
    "ks_obs_scatter_plot_noscale('TeubnerStrey', hide_ax=True)\n",
    "plt.ylabel('TS', fontsize=14, rotation='horizontal', labelpad=20)\n",
    "\n",
    "fig.add_subplot(spec[2,0], aspect='equal')\n",
    "ks_obs_scatter_plot_noscale('IndependentSphere', hide_ax=True)\n",
    "plt.ylabel('IND', fontsize=14, rotation='horizontal', labelpad=20)\n",
    "\n",
    "fig.add_subplot(spec[3,0], aspect='equal')\n",
    "ks_obs_scatter_plot_noscale('StickyHardSpheres', hide_ax=True)\n",
    "plt.ylabel('SHS', fontsize=14, rotation='horizontal', labelpad=20)\n",
    "\n",
    "fobs = fig.add_subplot(spec[4,0], aspect='equal')\n",
    "ks_obs_scatter_plot_noscale('Exponential')\n",
    "plt.ylabel('EXP', fontsize=14, rotation='horizontal', labelpad=20)\n",
    "# X tick labels for log graph from\n",
    "# https://stackoverflow.com/questions/44078409/matplotlib-semi-log-plot-minor-tick-marks-are-gone-when-range-is-large\n",
    "locmaj = LogLocator(base=10,numticks=5) \n",
    "fobs.xaxis.set_major_locator(locmaj)\n",
    "for label in fobs.xaxis.get_ticklabels()[::2]:\n",
    "    label.set_visible(False)\n",
    "locmin = LogLocator(base=10.0,subs=(0.2,0.4,0.6,0.8),numticks=12)\n",
    "fobs.xaxis.set_minor_locator(locmin)\n",
    "fobs.xaxis.set_minor_formatter(NullFormatter())\n",
    "#fobs.tick_params(axis='x', which='minor', direction='in')\n",
    "\n",
    "# Col 2: EXP\n",
    "fig.add_subplot(spec[0,1], aspect='equal')\n",
    "plot_ks_noscale('Exponential', 'GaussianRandomField', hide_ax=True)\n",
    "plt.title('EXP', fontsize=14)\n",
    "\n",
    "fig.add_subplot(spec[1,1], aspect='equal')\n",
    "plot_ks_noscale('Exponential', 'TeubnerStrey', hide_ax=True)\n",
    "\n",
    "fig.add_subplot(spec[2,1], aspect='equal')\n",
    "plot_ks_noscale('Exponential', 'IndependentSphere', hide_ax=True)\n",
    "\n",
    "\n",
    "fexp = fig.add_subplot(spec[3,1], aspect='equal')\n",
    "plot_ks_noscale('Exponential', 'StickyHardSpheres')\n",
    "# X tick labels for log graph from\n",
    "locmaje = LogLocator(base=10,numticks=8) \n",
    "fexp.xaxis.set_major_locator(locmaje)\n",
    "for label in fexp.xaxis.get_ticklabels()[1::2]:\n",
    "    label.set_visible(False)\n",
    "for label in fexp.xaxis.get_ticklabels()[0::2]:\n",
    "    label.set_visible(False)\n",
    "locmine = LogLocator(base=10.0,subs=(0.2,0.4,0.6,0.8),numticks=12)\n",
    "fexp.xaxis.set_minor_locator(locmine)\n",
    "fexp.xaxis.set_minor_formatter(NullFormatter())\n",
    "\n",
    "\n",
    "# Col 3\n",
    "fig.add_subplot(spec[0,2], aspect='equal')\n",
    "plot_ks_noscale('StickyHardSpheres', 'GaussianRandomField', hide_ax=True)\n",
    "plt.title('SHS', fontsize=14)\n",
    "\n",
    "fig.add_subplot(spec[1,2], aspect='equal')\n",
    "plot_ks_noscale('StickyHardSpheres', 'TeubnerStrey', hide_ax=True)\n",
    "\n",
    "fshs = fig.add_subplot(spec[2,2], aspect='equal')\n",
    "plot_ks_noscale('StickyHardSpheres', 'IndependentSphere')\n",
    "# X tick labels for log graph from\n",
    "fshs.xaxis.set_major_locator(locmaje)\n",
    "for label in fshs.xaxis.get_ticklabels()[1::2]:\n",
    "    label.set_visible(False)\n",
    "for label in fshs.xaxis.get_ticklabels()[0::2]:\n",
    "    label.set_visible(False)\n",
    "fshs.xaxis.set_minor_locator(locmine)\n",
    "fshs.xaxis.set_minor_formatter(NullFormatter())\n",
    "\n",
    "# Col 4\n",
    "fig.add_subplot(spec[0,3], aspect='equal')\n",
    "plot_ks_noscale('IndependentSphere', 'GaussianRandomField', hide_ax=True)\n",
    "plt.title('IND', fontsize=14)\n",
    "\n",
    "find = fig.add_subplot(spec[1,3], aspect='equal')\n",
    "plot_ks_noscale('IndependentSphere', 'TeubnerStrey')\n",
    "# X tick labels for log graph from\n",
    "find.xaxis.set_major_locator(locmaje)\n",
    "for label in find.xaxis.get_ticklabels()[1::2]:\n",
    "    label.set_visible(False)\n",
    "for label in find.xaxis.get_ticklabels()[0::2]:\n",
    "    label.set_visible(False)\n",
    "find.xaxis.set_minor_locator(locmine)\n",
    "find.xaxis.set_minor_formatter(NullFormatter())\n",
    "\n",
    "# Put frequency legend here\n",
    "fig.add_subplot(spec[4,4], aspect='equal')\n",
    "plt.gca().axis('off')\n",
    "legend_freq = [Line2D([0], [0], marker='o', color='w',\n",
    "                      markerfacecolor=frequency_colour_list()[float(f)], label=int(f/1e9)) for f in all_ks.coords['frequency']]\n",
    "plt.legend(handles=legend_freq, loc='upper left', title='Frequency [GHz]', ncol=1)\n",
    "\n",
    "\n",
    "# Put slab legend here\n",
    "#fig.add_subplot(spec[3,4], aspect='equal')\n",
    "#plt.gca().axis('off')\n",
    "#legend_slab = [Line2D([0], [0], marker=slab_symbol_list()[i], color='w', label=sl,\n",
    "#                          markerfacecolor='grey', markersize=12) for i, sl in enumerate(slab_list)]\n",
    "#plt.legend(handles=legend_slab, loc='center left', ncol=1, title='Slab (symbol)')\n",
    "\n",
    "# Col 5\n",
    "fts = fig.add_subplot(spec[0,4], aspect='equal')\n",
    "plot_ks_noscale('TeubnerStrey', 'GaussianRandomField')\n",
    "plt.title('TS', fontsize=14)\n",
    "# X tick labels for log graph from\n",
    "fts.xaxis.set_major_locator(locmaje)\n",
    "for label in fts.xaxis.get_ticklabels()[1::2]:\n",
    "    label.set_visible(False) # Removes every other label\n",
    "for label in fts.xaxis.get_ticklabels()[0::2]:\n",
    "    label.set_visible(False) # Then removes middle of remaining labels\n",
    "fts.xaxis.set_minor_locator(locmine)\n",
    "fts.xaxis.set_minor_formatter(NullFormatter())\n"
   ]
  },
  {
   "cell_type": "markdown",
   "metadata": {},
   "source": [
    "#### Calculate statistics"
   ]
  },
  {
   "cell_type": "code",
   "execution_count": null,
   "metadata": {},
   "outputs": [],
   "source": [
    "# Calculate error statistics\n",
    "obs_mean = (Hobs + Vobs).ys / 2\n",
    "sim_mean_exp = all_ks.sel(microstructure='Exponential').mean(dim='layer')\n",
    "sim_mean_ind = all_ks.sel(microstructure='IndependentSphere').mean(dim='layer')\n",
    "sim_mean_shs = all_ks.sel(microstructure='StickyHardSpheres').mean(dim='layer')\n",
    "sim_mean_ts = all_ks.sel(microstructure='TeubnerStrey').mean(dim='layer')\n",
    "sim_mean_grf = all_ks.sel(microstructure='GaussianRandomField').mean(dim='layer')"
   ]
  },
  {
   "cell_type": "code",
   "execution_count": null,
   "metadata": {},
   "outputs": [],
   "source": [
    "sim_mean = sim_mean_grf\n",
    "print (rmse(obs_mean, sim_mean))\n",
    "print (me(obs_mean, sim_mean))\n",
    "print (regression_coefficient(obs_mean.isel(frequency=slice(0,4)), sim_mean))"
   ]
  },
  {
   "cell_type": "markdown",
   "metadata": {},
   "source": [
    "## 4. Brightness temperature\n",
    "\n",
    "#### Useful functions"
   ]
  },
  {
   "cell_type": "code",
   "execution_count": null,
   "metadata": {},
   "outputs": [],
   "source": [
    "# Look up emissivity for each tuple key, calculate reflectivity and store in dictionary\n",
    "def get_slab_reflectivity(slab):\n",
    "    refl_dict = {emiss_keys[0] : np.round(1 - emiss[slab].sel(frequency=emiss_keys[0][0], polarization=emiss_keys[0][1]).values,2)}\n",
    "    for k in emiss_keys[1:]:\n",
    "        refl_dict.update({k : np.round(1 - emiss[slab].sel(frequency=k[0], polarization=k[1]).values,2)})\n",
    "    return (refl_dict)\n",
    "\n",
    "# Create snowpack. \n",
    "# snowpack_item is of format 'A01A_abs' meaning slab A01, micro-CT sample A, absorber substrate\n",
    "def asmex_snowpack(snowpack_item, microstructure):\n",
    "    slab = snowpack_item[:3]\n",
    "    sample = snowpack_item[:4]\n",
    "    substrate = snowpack_item[-3:]\n",
    "    # Get observed slab temperature\n",
    "    temperature = dft.mean()[slab]\n",
    "    # Get list of files that relate to sample\n",
    "    # Special treatment for A01 (different orientation) and A02A (was not measured)\n",
    "    if sample == 'A01A':\n",
    "        # Looking for A01A and A01B\n",
    "        sample_files = [f for f in microstructure_files if ('A01A' in f) or ('A01B' in f)]\n",
    "    elif sample == 'A01B':\n",
    "        # Looking for A01C and A01D\n",
    "        sample_files = [f for f in microstructure_files if ('A01C' in f) or ('A01D' in f)]\n",
    "    elif sample == 'A02A':\n",
    "        sample_files = [f for f in microstructure_files if 'A02' in f]\n",
    "    else:\n",
    "        sample_files = [f for f in microstructure_files if sample in f]\n",
    "    # Need to put Top sample first so can order layers from top to bottom\n",
    "    sample_files.sort(reverse=True)\n",
    "    # Make microstructure dataframe out of list\n",
    "    df = pd.concat((symmetrize_microstructure(f) for f in sample_files), ignore_index=True)\n",
    "    \n",
    "    # Calculate layer thickness\n",
    "    depth_in_m = obs_depth.loc[slab]['Depth (cm)'] * 1e-2\n",
    "    # Spread evenly between subsample layers\n",
    "    thickness = [depth_in_m / len(df)] * len(df)\n",
    "    \n",
    "    # Assign substrate and atmosphere\n",
    "    if substrate == 'abs':\n",
    "        # Absorber - use data from emissivity file\n",
    "        refl = get_slab_reflectivity(slab)\n",
    "        reflector = make_reflector(temperature=temperature, specular_reflection=refl)\n",
    "        # Take mean of H, V pol for atmospheric observations\n",
    "        tbdown= {f: float(obs_tb.TBAskyH.sel(slab=slab, frequency=f).values + obs_tb.TBAskyV.sel(slab=slab, frequency=f).values) / 2 for f in obs_tb.frequency.values}\n",
    "        # Replace nan with zero - no observations of sky when no observations of ground\n",
    "        tbdown = {k: 0 if np.isnan(v) else v for k, v in tbdown.items()}\n",
    "        atmos = make_atmosphere('simple_isotropic_atmosphere', tbdown=tbdown)\n",
    "    elif substrate == 'met':\n",
    "        # Reflector - assume 100% reflecting for now\n",
    "        reflector = make_reflector(temperature=temperature, specular_reflection=1)\n",
    "        # Take mean of H, V pol for atmospheric observations\n",
    "        tbdown= {f: float(obs_tb.TBMskyH.sel(slab=slab, frequency=f).values + obs_tb.TBMskyV.sel(slab=slab, frequency=f).values) / 2 for f in obs_tb.frequency.values}\n",
    "        # Replace nan with zero - no observations of sky when no observations of ground\n",
    "        tbdown = {k: 0 if np.isnan(v) else v for k, v in tbdown.items()}\n",
    "        atmos = make_atmosphere('simple_isotropic_atmosphere', tbdown=tbdown)\n",
    "    else:\n",
    "        print ('Substrate ', substrate, ' is not known')   \n",
    "    \n",
    "    # Decide which snowpack to return\n",
    "    if microstructure == 'Exponential':\n",
    "        return atmos + make_snowpack(thickness=thickness, temperature=temperature, density=df.density, \n",
    "                        microstructure_model=\"exponential\", corr_length=df.l_ex, substrate=reflector)\n",
    "    elif microstructure == 'StickyHardSpheres':\n",
    "        return atmos + make_snowpack(thickness=thickness, temperature=temperature, density=df.density, \n",
    "                        microstructure_model=\"sticky_hard_spheres\", radius=df.d_shs/2, \n",
    "                        stickiness=df.tau, substrate=reflector)\n",
    "    elif microstructure == 'IndependentSphere':\n",
    "        return atmos + make_snowpack(thickness=thickness, temperature=temperature, density=df.density, \n",
    "                        microstructure_model=\"independent_sphere\", radius=df.d_sph/2, substrate=reflector)\n",
    "    elif microstructure == 'TeubnerStrey':\n",
    "        return atmos + make_snowpack(thickness=thickness, temperature=temperature, density=df.density, \n",
    "                        microstructure_model=\"teubner_strey\", corr_length=df.xi_ts, repeat_distance=df.domain_ts, \n",
    "                        substrate=reflector)\n",
    "    elif microstructure == 'GaussianRandomField':\n",
    "        return atmos + make_snowpack(thickness=thickness, temperature=temperature, density=df.density, \n",
    "                        microstructure_model=\"gaussian_random_field\", corr_length=df.xi_grf, \n",
    "                        repeat_distance=df.domain_grf, substrate=reflector)\n",
    "    else:\n",
    "        print (microstructure, ' is not a known microstructure model')\n",
    "\n",
    "# Used in plotting to separate micro-CT sample A and B, and substrate type\n",
    "def subset_snowpacks(sample_substrate):\n",
    "    # Create mask\n",
    "    mask = [sample_substrate in x for x in snowpack_list]\n",
    "    # Apply it to snowpack list so have one snowpack per slab (14)\n",
    "    return [snowpack_list[i] for i in range(len(snowpack_list)) if mask[i]]\n",
    "\n",
    "\n",
    "# Generate plot of simulated vs observed TB, depending on microstructure model\n",
    "def plot_tb(microstructure):\n",
    "    # Determine which model results to use\n",
    "    if microstructure == 'Exponential':\n",
    "        res = results_exp\n",
    "    elif microstructure == 'IndependentSphere':\n",
    "        res = results_ind\n",
    "    elif microstructure == 'StickyHardSpheres':\n",
    "        res = results_shs\n",
    "    elif microstructure == 'TeubnerStrey':\n",
    "        res = results_ts\n",
    "    elif microstructure == 'GaussianRandomField':\n",
    "        res = results_grf\n",
    "    \n",
    "    alf = 0.7\n",
    "    \n",
    "    # V-pol\n",
    "    [axv.scatter(obs_tb.TBAV.sel(frequency=f), res.TbV(snowpack=subset_snowpacks('A_abs'), frequency=f), c=microstructure_colour_list()[microstructure], \n",
    "               label=microstructure_short_labels()[microstructure], alpha=alf, edgecolors='none', \n",
    "                 marker=microstructure_symbols()[microstructure])  for f in obs_tb.frequency] \n",
    "    [axv.scatter(obs_tb.TBAV.sel(frequency=f), res.TbV(snowpack=subset_snowpacks('B_abs'), frequency=f), c=microstructure_colour_list()[microstructure], \n",
    "               alpha=alf, edgecolors='none', marker=microstructure_symbols()[microstructure]) for f in obs_tb.frequency]\n",
    "    [axv.scatter(obs_tb.TBMV.sel(frequency=f), res.TbV(snowpack=subset_snowpacks('A_met'), frequency=f), c=microstructure_colour_list()[microstructure],\n",
    "               label=microstructure_short_labels()[microstructure], alpha=alf, edgecolors='none', \n",
    "                 marker=microstructure_symbols()[microstructure])  for f in obs_tb.frequency] \n",
    "    [axv.scatter(obs_tb.TBMV.sel(frequency=f), res.TbV(snowpack=subset_snowpacks('B_met'), frequency=f), c=microstructure_colour_list()[microstructure], \n",
    "               alpha=alf, edgecolors='none', marker=microstructure_symbols()[microstructure]) for f in obs_tb.frequency]\n",
    "    \n",
    "    \n",
    "    # H-pol\n",
    "    [axh.scatter(obs_tb.TBAH.sel(frequency=f), res.TbH(snowpack=subset_snowpacks('A_abs'), frequency=f), c=microstructure_colour_list()[microstructure], \n",
    "               label=microstructure_short_labels()[microstructure], alpha=alf, edgecolors='none', \n",
    "                 marker=microstructure_symbols()[microstructure])  for f in obs_tb.frequency] \n",
    "    [axh.scatter(obs_tb.TBAH.sel(frequency=f), res.TbH(snowpack=subset_snowpacks('B_abs'), frequency=f), c=microstructure_colour_list()[microstructure], \n",
    "               alpha=alf, edgecolors='none', marker=microstructure_symbols()[microstructure]) for f in obs_tb.frequency]\n",
    "    [axh.scatter(obs_tb.TBMH.sel(frequency=f), res.TbH(snowpack=subset_snowpacks('A_met'), frequency=f), c=microstructure_colour_list()[microstructure],\n",
    "               label=microstructure_short_labels()[microstructure], alpha=alf, edgecolors='none', \n",
    "                 marker=microstructure_symbols()[microstructure])  for f in obs_tb.frequency] \n",
    "    [axh.scatter(obs_tb.TBMH.sel(frequency=f), res.TbH(snowpack=subset_snowpacks('B_met'), frequency=f), c=microstructure_colour_list()[microstructure], \n",
    "               alpha=alf, edgecolors='none', marker=microstructure_symbols()[microstructure]) for f in obs_tb.frequency]\n",
    "\n",
    "# Used for calculation of RMSE and ME    \n",
    "def format_obs_for_error_statistics(tb, pol):\n",
    "    # Alternates absorber / metal tb for each slab sample \n",
    "    # Allows direct comparison (statistics calculations) with SMRT results\n",
    "    \n",
    "    # Reference H or V pol\n",
    "    if pol == 'V':\n",
    "        tb_abs = tb.TBAV\n",
    "        tb_met = tb.TBMV\n",
    "    elif pol == 'H':\n",
    "        tb_abs = tb.TBAH\n",
    "        tb_met = tb.TBMH\n",
    "    else:\n",
    "        print ('pol not recognized')\n",
    "        return\n",
    "    \n",
    "    # Make a list of 1-D xarray data arrays, then concatenate them\n",
    "    all_obs = []\n",
    "    for f in tb_abs.frequency:\n",
    "        # Need two sets for two micro-CT samples from same slab\n",
    "        obs_list = [xr.concat([tb_abs.sel(slab=s, frequency=f), tb_met.sel(slab=s, frequency=f),\n",
    "          tb_abs.sel(slab=s, frequency=f), tb_met.sel(slab=s, frequency=f)], dim='slab') for s in obs_tb.TBAH.slab]\n",
    "        all_obs.append(xr.concat(obs_list, dim='slab'))\n",
    "    # Make coords consistent with results\n",
    "    return xr.concat(all_obs, dim='frequency').rename({'slab':'snowpack'}).assign_coords(snowpack=results_exp.TbV().snowpack.values)"
   ]
  },
  {
   "cell_type": "markdown",
   "metadata": {},
   "source": [
    "#### Set up of emissivity dictionary keys"
   ]
  },
  {
   "cell_type": "code",
   "execution_count": null,
   "metadata": {},
   "outputs": [],
   "source": [
    "# Make tuple key dictionary\n",
    "# List of tuple keys - this will stay the same regardless of slab and only needs to be defined once.\n",
    "emiss_keys = []\n",
    "for f in rads.frequency:\n",
    "    emiss_keys.append((f, 'H'))\n",
    "    emiss_keys.append((f, 'V'))"
   ]
  },
  {
   "cell_type": "markdown",
   "metadata": {},
   "source": [
    "#### Make list of snowpacks for each microstructure model"
   ]
  },
  {
   "cell_type": "code",
   "execution_count": null,
   "metadata": {},
   "outputs": [],
   "source": [
    "# Get list of samples i.e.. A and B for each slab\n",
    "sample_list = sorted([s + 'A' for s in slab_list] + [s + 'B' for s in slab_list])\n",
    "\n",
    "# Get list of snowpacks - will have one list per microstructure model\n",
    "snowpack_list = sorted([s + '_abs' for s in sample_list] + [s + '_met' for s in sample_list])"
   ]
  },
  {
   "cell_type": "code",
   "execution_count": null,
   "metadata": {},
   "outputs": [],
   "source": [
    "exp_snowpacks = [asmex_snowpack(s, 'Exponential') for s in snowpack_list]\n",
    "shs_snowpacks = [asmex_snowpack(s, 'StickyHardSpheres') for s in snowpack_list]\n",
    "ind_snowpacks = [asmex_snowpack(s, 'IndependentSphere') for s in snowpack_list]\n",
    "ts_snowpacks = [asmex_snowpack(s, 'TeubnerStrey') for s in snowpack_list]\n",
    "grf_snowpacks = [asmex_snowpack(s, 'GaussianRandomField') for s in snowpack_list]"
   ]
  },
  {
   "cell_type": "markdown",
   "metadata": {},
   "source": [
    "#### Run model for each microstructure"
   ]
  },
  {
   "cell_type": "code",
   "execution_count": null,
   "metadata": {},
   "outputs": [],
   "source": [
    "# Run model on exponential packs\n",
    "results_exp = model.run(rads, exp_snowpacks, snowpack_dimension=('snowpack', snowpack_list))"
   ]
  },
  {
   "cell_type": "code",
   "execution_count": null,
   "metadata": {},
   "outputs": [],
   "source": [
    "# Run model on independent sphere packs\n",
    "results_ind = model.run(rads, ind_snowpacks, snowpack_dimension=('snowpack', snowpack_list))"
   ]
  },
  {
   "cell_type": "code",
   "execution_count": null,
   "metadata": {},
   "outputs": [],
   "source": [
    "# Run model on sticky hard sphere packs\n",
    "results_shs = model.run(rads, shs_snowpacks, snowpack_dimension=('snowpack', snowpack_list))"
   ]
  },
  {
   "cell_type": "code",
   "execution_count": null,
   "metadata": {},
   "outputs": [],
   "source": [
    "# Run model on teubner strey packs\n",
    "results_ts = model.run(rads, ts_snowpacks, snowpack_dimension=('snowpack', snowpack_list))"
   ]
  },
  {
   "cell_type": "code",
   "execution_count": null,
   "metadata": {},
   "outputs": [],
   "source": [
    "# Run model on gaussian random field packs\n",
    "results_grf = model.run(rads, grf_snowpacks, snowpack_dimension=('snowpack', snowpack_list))"
   ]
  },
  {
   "cell_type": "markdown",
   "metadata": {},
   "source": [
    "#### Plot results"
   ]
  },
  {
   "cell_type": "code",
   "execution_count": null,
   "metadata": {},
   "outputs": [],
   "source": [
    "plt.close()\n",
    "fig, (axv, axh) = plt.subplots(nrows=2, ncols=1, sharex=True, figsize=(6,12))\n",
    "plt.rcParams.update({'font.size': 16})\n",
    "\n",
    "plot_tb('Exponential')\n",
    "plot_tb('IndependentSphere')\n",
    "plot_tb('StickyHardSpheres')\n",
    "plot_tb('TeubnerStrey')\n",
    "plot_tb('GaussianRandomField')\n",
    "\n",
    "#1-1 line\n",
    "x = np.linspace(0, 280, 10)\n",
    "for ax in [axv, axh]:\n",
    "    ax.plot(x,x,'k--', alpha=0.3)\n",
    "    ax.set_xlim([0, 275])\n",
    "    ax.set_ylim([0, 275])\n",
    "    ax.set_ylabel('Simulated TB (K)')\n",
    "\n",
    "plt.xlabel('Observed TB (K)')\n",
    "plt.tight_layout()\n",
    "plt.show()\n",
    "fig.savefig('Fig6a.png')"
   ]
  },
  {
   "cell_type": "markdown",
   "metadata": {},
   "source": [
    "#### Calculate error statistics"
   ]
  },
  {
   "cell_type": "code",
   "execution_count": null,
   "metadata": {},
   "outputs": [],
   "source": [
    "HobsTB = format_obs_for_error_statistics(obs_tb, 'H')\n",
    "VobsTB = format_obs_for_error_statistics(obs_tb, 'V')"
   ]
  },
  {
   "cell_type": "code",
   "execution_count": null,
   "metadata": {},
   "outputs": [],
   "source": [
    "# For paper. RMSE (H, V)\n",
    "print ('\\nRoot Mean Squared Error (H, V)')\n",
    "print ('EXP', np.round(rmse(HobsTB, results_exp.TbH()),1),\n",
    "      np.round(rmse(VobsTB, results_exp.TbV()),1))\n",
    "print ('SHS', np.round(rmse(HobsTB, results_shs.TbH()),1),\n",
    "      np.round(rmse(VobsTB, results_shs.TbV()),1))\n",
    "print ('IND', np.round(rmse(HobsTB, results_ind.TbH()),1),\n",
    "      np.round(rmse(VobsTB, results_ind.TbV()),1))\n",
    "print ('TS', np.round(rmse(HobsTB, results_ts.TbH()),1),\n",
    "      np.round(rmse(VobsTB, results_ts.TbV()),1))\n",
    "print ('GRF', np.round(rmse(HobsTB, results_grf.TbH()),1),\n",
    "      np.round(rmse(VobsTB, results_grf.TbV()),1))"
   ]
  },
  {
   "cell_type": "code",
   "execution_count": null,
   "metadata": {},
   "outputs": [],
   "source": [
    "# For paper. ME (H, V)\n",
    "print ('\\nMean Error (H, V)')\n",
    "print ('EXP', np.round(me(HobsTB, results_exp.TbH()),1),\n",
    "      np.round(me(VobsTB, results_exp.TbV()),1))\n",
    "print ('SHS', np.round(me(HobsTB, results_shs.TbH()),1),\n",
    "      np.round(me(VobsTB, results_shs.TbV()),1))\n",
    "print ('IND', np.round(me(HobsTB, results_ind.TbH()),1),\n",
    "      np.round(me(VobsTB, results_ind.TbV()),1))\n",
    "print ('TS', np.round(me(HobsTB, results_ts.TbH()),1),\n",
    "      np.round(me(VobsTB, results_ts.TbV()),1))\n",
    "print ('GRF', np.round(me(HobsTB, results_grf.TbH()),1),\n",
    "      np.round(me(VobsTB, results_grf.TbV()),1))"
   ]
  },
  {
   "cell_type": "code",
   "execution_count": null,
   "metadata": {},
   "outputs": [],
   "source": [
    "# Determine whether SHS or TS has smallest ME in Hpol\n",
    "print (me(HobsTB, results_shs.TbH()), me(HobsTB, results_ts.TbH()))"
   ]
  },
  {
   "cell_type": "code",
   "execution_count": null,
   "metadata": {},
   "outputs": [],
   "source": []
  }
 ],
 "metadata": {
  "kernelspec": {
   "display_name": "Python 3",
   "language": "python",
   "name": "python3"
  },
  "language_info": {
   "codemirror_mode": {
    "name": "ipython",
    "version": 3
   },
   "file_extension": ".py",
   "mimetype": "text/x-python",
   "name": "python",
   "nbconvert_exporter": "python",
   "pygments_lexer": "ipython3",
   "version": "3.8.5"
  }
 },
 "nbformat": 4,
 "nbformat_minor": 4
}
