{
 "cells": [
  {
   "cell_type": "code",
   "execution_count": 1,
   "metadata": {},
   "outputs": [],
   "source": [
    "import numpy as np\n",
    "import pandas as pd\n",
    "import xarray as xr\n",
    "from datetime import datetime, timedelta\n",
    "%matplotlib widget\n",
    "import matplotlib.pyplot as plt"
   ]
  },
  {
   "cell_type": "code",
   "execution_count": 2,
   "metadata": {},
   "outputs": [],
   "source": [
    "density = pd.read_csv('data/NoSREx3/20120301_nosrex3-iop2.csv')"
   ]
  },
  {
   "cell_type": "code",
   "execution_count": 3,
   "metadata": {},
   "outputs": [],
   "source": [
    "density.replace('#VALUE!', np.nan, inplace=True)"
   ]
  },
  {
   "cell_type": "code",
   "execution_count": 4,
   "metadata": {},
   "outputs": [
    {
     "data": {
      "application/vnd.jupyter.widget-view+json": {
       "model_id": "518c51079fb14a8187c2d06a1d085ee6",
       "version_major": 2,
       "version_minor": 0
      },
      "text/plain": [
       "Canvas(toolbar=Toolbar(toolitems=[('Home', 'Reset original view', 'home', 'home'), ('Back', 'Back to previous …"
      ]
     },
     "metadata": {},
     "output_type": "display_data"
    },
    {
     "data": {
      "text/plain": [
       "([<matplotlib.axis.XTick at 0x200800377c0>,\n",
       "  <matplotlib.axis.XTick at 0x20080037790>,\n",
       "  <matplotlib.axis.XTick at 0x2008002b2e0>,\n",
       "  <matplotlib.axis.XTick at 0x200802d75e0>,\n",
       "  <matplotlib.axis.XTick at 0x200802d7af0>],\n",
       " [Text(0, 0, '0'),\n",
       "  Text(100, 0, '100'),\n",
       "  Text(200, 0, '200'),\n",
       "  Text(300, 0, '300'),\n",
       "  Text(400, 0, '400')])"
      ]
     },
     "execution_count": 4,
     "metadata": {},
     "output_type": "execute_result"
    }
   ],
   "source": [
    "plt.close()\n",
    "img = plt.imread(\"data/NoSREx3/DSC_0905-blue_crop.png\")\n",
    "fig, ax = plt.subplots(figsize=(8,8))\n",
    "ax.imshow(img, extent=[0, 876, 800, -140])\n",
    "ax.plot(density['rho (kgm-3)'], density['depth below surface (mm)'], 'r')\n",
    "plt.xlabel('Density [kg m$^{-3}$]')\n",
    "plt.ylabel('Depth from surface (mm)')\n",
    "\n",
    "locs = [0, 100, 200, 300, 400]\n",
    "#locs, labels = plt.xticks()            # Get locations and labels\n",
    "plt.xticks(locs, locs)  # Set locations and labels\n"
   ]
  },
  {
   "cell_type": "code",
   "execution_count": null,
   "metadata": {},
   "outputs": [],
   "source": []
  }
 ],
 "metadata": {
  "kernelspec": {
   "display_name": "Python 3",
   "language": "python",
   "name": "python3"
  },
  "language_info": {
   "codemirror_mode": {
    "name": "ipython",
    "version": 3
   },
   "file_extension": ".py",
   "mimetype": "text/x-python",
   "name": "python",
   "nbconvert_exporter": "python",
   "pygments_lexer": "ipython3",
   "version": "3.8.5"
  }
 },
 "nbformat": 4,
 "nbformat_minor": 4
}
