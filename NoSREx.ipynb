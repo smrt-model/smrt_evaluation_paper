{
 "cells": [
  {
   "cell_type": "markdown",
   "metadata": {},
   "source": [
    "# This notebook produces simulations for NoSREx:\n",
    "\n",
    "1. TB Scatterplot (figure 6c)\n",
    "2. TB Incidence angle dependency, high resolution (figure 10)\n",
    "3. TB Incidence angle dependency (10 GHz), low resolution (figure 11)\n",
    "4. Backscatter angle dependency (figure 12 + figures in appendix)"
   ]
  },
  {
   "cell_type": "code",
   "execution_count": null,
   "metadata": {},
   "outputs": [],
   "source": [
    "import numpy as np\n",
    "import pandas as pd\n",
    "import xarray as xr\n",
    "from datetime import datetime, timedelta\n",
    "import matplotlib.pyplot as plt\n",
    "from matplotlib import gridspec\n",
    "\n",
    "\n",
    "# local import\n",
    "from smrt import make_snowpack, make_model, sensor, make_soil, make_atmosphere\n",
    "from smrt.substrate.reflector_backscatter import make_reflector\n",
    "from smrt.core.globalconstants import DENSITY_OF_ICE, FREEZING_POINT\n",
    "from smrt.utils import dB, invdB\n",
    "\n",
    "from common_functions import symmetrize_microstructure, microstructure_colour_list\n",
    "from common_functions import microstructure_short_labels, me, rmse, microstructure_symbols"
   ]
  },
  {
   "cell_type": "markdown",
   "metadata": {},
   "source": [
    "## Useful functions"
   ]
  },
  {
   "cell_type": "code",
   "execution_count": null,
   "metadata": {},
   "outputs": [],
   "source": [
    "# Reduce number of layers\n",
    "# Have 320 layers: low resolution=16\n",
    "def low_res(data, nlayers=16, thickness=False):\n",
    "    \n",
    "    n_mean = len(data) / nlayers\n",
    "    if n_mean.is_integer() is False:\n",
    "        print ('number of layers must be factor of ', len(data))\n",
    "    elif thickness == True:\n",
    "        return np.sum(data.reshape(-1,int(n_mean)), axis=1)\n",
    "    else:\n",
    "        return np.mean(data.reshape(-1,int(n_mean)), axis=1)\n",
    "\n",
    "# From https://gist.github.com/zertrin/4663169\n",
    "def datetime2matlabdn(dt):\n",
    "    ord = dt.toordinal()\n",
    "    mdn = dt + timedelta(days = 366)\n",
    "    frac = (dt-datetime(dt.year,dt.month,dt.day,0,0,0)).seconds / (24.0 * 60.0 * 60.0)\n",
    "    return mdn.toordinal() + frac\n",
    "\n",
    "# https://stackoverflow.com/questions/32237862/find-the-closest-date-to-a-given-date\n",
    "def nearest_ind(items, pivot):\n",
    "    time_diff = np.abs([date - pivot for date in items])\n",
    "    return np.nanargmin(time_diff)\n",
    "\n",
    "\n",
    "def get_sky_tb(frequency):\n",
    "    # Retrieves sky brightness temperature\n",
    "    lookup = str(np.round(frequency / 1e9,2)).split('.0')[0]\n",
    "    return 0.5 *(sky_df[lookup+'V'] + sky_df[lookup+'H'])\n",
    "\n",
    "def plot_angular_passive(f, ax):\n",
    "    # V pol\n",
    "    ax.plot(theta, dfobs.sel(polarization='V', frequency=f).to_array().squeeze(), 'k^-', label='V-obs', markersize=12)\n",
    "    [ax.plot(theta, result.TbV(frequency=f, microstructure=m), marker=microstructure_symbols()[m], c=microstructure_colour_list()[m],\n",
    "         label=('V-'+ microstructure_short_labels()[m])) for m in mlist]\n",
    "    # H pol\n",
    "    ax.plot(theta, dfobs.sel(polarization='H', frequency=f).to_array().squeeze(), 'kH-', label='H-obs', alpha=alf, markersize=12)\n",
    "    [ax.plot(theta, result.TbH(frequency=f, microstructure=m), marker=microstructure_symbols()[m], c=microstructure_colour_list()[m],\n",
    "         label=('H-'+ microstructure_short_labels()[m]), alpha=alf, linestyle='--') for m in mlist]\n",
    "    ax.set_ylim([197, 270])\n",
    "    \n",
    "# Calculate layer heights for plotting\n",
    "def calc_layer_heights(thickness):\n",
    "    return [-thickness[0]/2 - n * thickness[0] for n in range(len(thickness))]\n",
    "\n",
    "def plot_active(f, ax):\n",
    "    ax.errorbar(theta, adf.sel(frequency=f, polarization='VV').to_array().squeeze(), marker='*', color='k', linestyle='-', yerr=1, markersize=12, label='VV-obs')\n",
    "    [ax.plot(theta, dB(result_active.sigmaVV(frequency=f, microstructure=m)), c=microstructure_colour_list()[m], \n",
    "             marker=microstructure_symbols()[m],\n",
    "            label=('VV-' + microstructure_short_labels()[m])) for m in snowpack_labels]\n",
    "    ax.errorbar(theta, adf.sel(frequency=f, polarization='HH').to_array().squeeze(), marker='*', color='k', linestyle='--', yerr=1, markersize=12, \n",
    "            label='HH-obs', alpha=alf)\n",
    "\n",
    "    [ax.plot(theta, dB(result_active.sigmaHH(frequency=f, microstructure=m)), c=microstructure_colour_list()[m], \n",
    "             marker=microstructure_symbols()[m],\n",
    "            label=('HH-' + microstructure_short_labels()[m]), alpha=alf, linestyle='--') for m in snowpack_labels]\n",
    "    "
   ]
  },
  {
   "cell_type": "markdown",
   "metadata": {},
   "source": [
    "## Read in data, assign to layers"
   ]
  },
  {
   "cell_type": "code",
   "execution_count": null,
   "metadata": {},
   "outputs": [],
   "source": [
    "# Microstructure dataframe\n",
    "mdf = symmetrize_microstructure('data/NoSREx3/nosrex3_CCN_acf_parameters_v0.1.csv')"
   ]
  },
  {
   "cell_type": "code",
   "execution_count": null,
   "metadata": {},
   "outputs": [],
   "source": [
    "# Read in total depth, distribute layer thicknesses evenly between parameter values\n",
    "# NB ignores sample gaps\n",
    "automated_data_df = pd.read_csv('data/NoSREx3/NOSREX_automated_in_situ_2011_2012.csv')\n",
    "\n",
    "# Get time of profile\n",
    "profiledate = datetime.strptime('01/03/2012', '%d/%m/%Y').replace(hour=14).strftime('%Y/%m/%d %H:%M:%S')\n",
    "\n",
    "# Get snow depth at time of profile\n",
    "# Use open area acoustic sensor (SHM1mean). An alternative is AVG_SNOW_AWS: at the AWS\n",
    "snowdepth = automated_data_df[automated_data_df['OBSTIME_START'] == profiledate]['SHM1mean'].values * 1e-2\n",
    "\n",
    "# Number of snow layers\n",
    "nlayers = len(mdf)\n",
    "\n",
    "# Set up parameter arrays\n",
    "thickness = np.repeat([snowdepth / nlayers], nlayers)\n",
    "# Interpolate temperature between surface and ground\n",
    "surface_temp = min(automated_data_df[automated_data_df['OBSTIME_START'] == profiledate]['TTM1mean'].values \n",
    "                   + FREEZING_POINT, FREEZING_POINT)  # This is air temperature\n",
    "# Take mean of 2 soil temperature observations\n",
    "B = automated_data_df[automated_data_df['OBSTIME_START']==profiledate]['TSMB2mean']\n",
    "C = automated_data_df[automated_data_df['OBSTIME_START']==profiledate]['TSMC2mean']\n",
    "soil_temperature = min(273.15, (B + C).values / 2 + FREEZING_POINT) # limit lower snow layer temperature to 273.15K\n",
    "# Make profile temperatures\n",
    "temperature = np.linspace(surface_temp, soil_temperature, nlayers)"
   ]
  },
  {
   "cell_type": "code",
   "execution_count": null,
   "metadata": {},
   "outputs": [],
   "source": [
    "# Read in TB observations\n",
    "dfobs = pd.read_csv('data/NoSREx3/NOSREX_sodrad_tb_avgs_2011_2012.csv', parse_dates=['OBSTIME'])\n",
    "# Convert start date from converted_results\n",
    "dfobs['OBSTIME'] = pd.to_datetime(dfobs['OBSTIME'])  # Make sure in right format\n",
    "# Create boolean mask to extract only data from snowpit date\n",
    "mask = (dfobs['OBSTIME'] == profiledate)\n",
    "dfobs = dfobs.loc[mask]\n",
    "\n",
    "# Extract only mean values (ignore standard deviation)\n",
    "dfobs = dfobs.filter(regex='mean').T # Transpose dataframe to make original .csv headers the index\n",
    "\n",
    "# Get frequency, incidence angle from index names (originally .csv headers)\n",
    "split = dfobs.index.str.split(\"_i\")\n",
    "dfobs['polarization'] = [x[0][1:2] for x in split]\n",
    "dfobs['frequency'] = [int(x[0][2:]) for x in split]\n",
    "dfobs['theta'] = [int(x[1][:2]) for x in split]\n",
    "\n",
    "# Set as index and convert to xarray\n",
    "dfobs = dfobs.set_index(['frequency', 'theta', 'polarization']).to_xarray()\n",
    "\n",
    "# Relabel frequency into GHz so can reference in the same way as simulations\n",
    "# Here they are in numerical order i.e. 21, 187, 365, 1065\n",
    "dfobs['frequency'] = [21e9, 18.7e9, 36.5e9, 10.65e9]\n",
    "# Put in ascending order of frequency\n",
    "dfobs = dfobs.sortby('frequency')"
   ]
  },
  {
   "cell_type": "code",
   "execution_count": null,
   "metadata": {},
   "outputs": [],
   "source": [
    "# Sky TB observations\n",
    "hdrs = ['Date','10.65V', '10.65H', '18.7V', '18.7H', '21V', '21H', '36.5V', '36.5H']\n",
    "sky_df = pd.read_csv('data/NoSREx3/sodrad_timeseries_90_nosrexiii_sky.txt', header=None, delim_whitespace=True, usecols=range(9))\n",
    "sky_df.columns = hdrs\n",
    "profiledate_matlab = datetime2matlabdn(datetime.strptime(profiledate, '%Y/%m/%d %H:%M:%S'))\n",
    "sky_df = sky_df.iloc[nearest_ind(sky_df['Date'], profiledate_matlab)]\n",
    "sky_df['Date'] = pd.to_datetime(sky_df['Date']-719529, unit='D')  # Make sure in right format"
   ]
  },
  {
   "cell_type": "code",
   "execution_count": null,
   "metadata": {},
   "outputs": [],
   "source": [
    "# Read in scatterometer data\n",
    "active_df = pd.read_csv('data/NoSREx3/NOSREX_snowscat_sigma0_avgs_2011_2012_sector1.csv', parse_dates=['time_stamp'])\n",
    "active_df['time_stamp'] = pd.to_datetime(active_df['time_stamp'])  # Make sure in right format\n",
    "# # Create boolean mask\n",
    "mask = (active_df['time_stamp'] == profiledate)\n",
    "adf = active_df.loc[mask].filter(regex='^sigma0').T  # carat means it has to start with 'sigma0'\n",
    "\n",
    "# Get frequency, incidence angle from index names (originally .csv headers)\n",
    "split = adf.index.str.split('_inc')\n",
    "adf['theta'] = [int(x[1]) for x in split]\n",
    "adf['polarization'] = [x[0][-2:] for x in split]\n",
    "adf['frequency'] = [int(x[0][-6:-3]) for x in split]\n",
    "# Set as index and convert to xarray\n",
    "adf = adf.set_index(['frequency', 'theta', 'polarization']).to_xarray()\n",
    "\n",
    "# Relabel frequency into GHz so can reference in the same way as simulations\n",
    "# Here they are in numerical order i.e. 21, 187, 365, 1065\n",
    "adf['frequency'] = adf.frequency * 1e8 # Convert to GHz"
   ]
  },
  {
   "cell_type": "markdown",
   "metadata": {},
   "source": [
    "### Set up simulation configurations"
   ]
  },
  {
   "cell_type": "code",
   "execution_count": null,
   "metadata": {},
   "outputs": [],
   "source": [
    "# Make model\n",
    "model = make_model(\"iba\",\"dort\")\n",
    "\n",
    "# Set observation angle\n",
    "theta = [30, 40, 50, 60]\n",
    "# Make passive sensor\n",
    "rad_frequencies = [10.65e9, 18.7e9, 21e9, 36.5e9]\n",
    "radiometer = sensor.passive(rad_frequencies, theta)\n",
    "# Make active sensor\n",
    "scatt_frequencies = [10.2e9, 13.3e9, 16.7e9]\n",
    "scatterometer = sensor.active(scatt_frequencies, theta)"
   ]
  },
  {
   "cell_type": "markdown",
   "metadata": {},
   "source": [
    "# Passive Simulations - High Resolution"
   ]
  },
  {
   "cell_type": "code",
   "execution_count": null,
   "metadata": {},
   "outputs": [],
   "source": [
    "# Set up soil\n",
    "clay=0.01\n",
    "sand=0.7\n",
    "drymatter=1300\n",
    "roughness_rms=2e-2\n",
    "A = automated_data_df[automated_data_df['OBSTIME_START']==profiledate]['SMMA2mean']\n",
    "B = automated_data_df[automated_data_df['OBSTIME_START']==profiledate]['SMMB2mean']\n",
    "moisture = 0.2 # default value\n",
    "if ((A + B).values > 0) and ((A + B).values < 1):\n",
    "    moisture = (A + B).values / 2. # Mean of two obs\n",
    "substrate = make_soil(\"soil_wegmuller\", \"dobson85\", soil_temperature, moisture=moisture, roughness_rms=roughness_rms,\n",
    "    clay=clay, sand=sand, drymatter=drymatter)"
   ]
  },
  {
   "cell_type": "code",
   "execution_count": null,
   "metadata": {},
   "outputs": [],
   "source": [
    "# Make snowpacks\n",
    "snowpack_exp = make_snowpack(thickness, \"exponential\", density=mdf.density, temperature=temperature, \n",
    "                             corr_length=mdf.l_ex, substrate=substrate)\n",
    "snowpack_shs = make_snowpack(thickness=thickness, microstructure_model=\"sticky_hard_spheres\",\n",
    "                             temperature=temperature, density=mdf.density, radius=(mdf.d_shs / 2.), \n",
    "                             stickiness=mdf.tau, substrate=substrate)\n",
    "snowpack_ind = make_snowpack(thickness=thickness, microstructure_model=\"independent_sphere\",\n",
    "                             temperature=temperature, density=mdf.density,radius=(mdf.d_sph / 2.), substrate=substrate)\n",
    "snowpack_ts = make_snowpack(thickness=thickness, microstructure_model=\"teubner_strey\", temperature=temperature,\n",
    "                            density=mdf.density, corr_length=mdf.xi_ts, repeat_distance=mdf.domain_ts, substrate=substrate)\n",
    "snowpack_grf = make_snowpack(thickness=thickness, microstructure_model=\"gaussian_random_field\",\n",
    "                             temperature=temperature, density=mdf.density, corr_length=mdf.xi_grf, \n",
    "                             repeat_distance=mdf.domain_grf, substrate=substrate)\n",
    "all_snowpacks = [snowpack_exp, snowpack_shs, snowpack_ind, snowpack_ts, snowpack_grf]\n",
    "\n",
    "# Collect labels for snowpacks: label by microstructure model\n",
    "snowpack_labels = [all_snowpacks[sp].layers[0].microstructure_model.__name__ for sp in range(len(all_snowpacks))]"
   ]
  },
  {
   "cell_type": "markdown",
   "metadata": {},
   "source": [
    "#### Add atmosphere to snowpacks"
   ]
  },
  {
   "cell_type": "code",
   "execution_count": null,
   "metadata": {},
   "outputs": [],
   "source": [
    "nadir_tbdown= {f: get_sky_tb(f) for f in rad_frequencies}  # Uncorrected\n",
    "\n",
    "atmos = make_atmosphere('simple_isotropic_atmosphere', tbdown=nadir_tbdown)\n",
    "\n",
    "# Add atmosphere to snowpacks\n",
    "all_snowpacks_with_atmos = [atmos + s for s in all_snowpacks]"
   ]
  },
  {
   "cell_type": "markdown",
   "metadata": {},
   "source": [
    "#### Run model"
   ]
  },
  {
   "cell_type": "code",
   "execution_count": null,
   "metadata": {},
   "outputs": [],
   "source": [
    "result = model.run(radiometer, all_snowpacks_with_atmos, snowpack_dimension=('microstructure', snowpack_labels))"
   ]
  },
  {
   "cell_type": "markdown",
   "metadata": {},
   "source": [
    "#### Plot results: figure 6c"
   ]
  },
  {
   "cell_type": "code",
   "execution_count": null,
   "metadata": {},
   "outputs": [],
   "source": [
    "fig, (axv, axh) = plt.subplots(nrows=2, ncols=1, sharex=True, figsize=(6,12))\n",
    "plt.rcParams.update({'font.size': 16})\n",
    "\n",
    "for m in result.Tb().microstructure.values:\n",
    "    axv.scatter(dfobs.sel(polarization='V').to_array(), result.TbV(microstructure=m), \n",
    "               c=microstructure_colour_list()[m], alpha=0.7, edgecolors='none', \n",
    "                marker=microstructure_symbols()[m], \n",
    "               label='V-' + microstructure_short_labels()[m])\n",
    "    axh.scatter(dfobs.sel(polarization='H').to_array(), result.TbH(microstructure=m),\n",
    "               marker=microstructure_symbols()[m], alpha=0.7, c=microstructure_colour_list()[m],\n",
    "               label='H-' + microstructure_short_labels()[m])\n",
    "\n",
    "\n",
    "#1-1 line\n",
    "x = np.linspace(195, 275, 10)\n",
    "xticks = np.arange(200, 280, 10)\n",
    "for ax in [axv, axh]:\n",
    "    ax.plot(x,x,'k--', alpha=0.3)\n",
    "    ax.set_xticks(xticks)\n",
    "    ax.set_yticks(xticks)\n",
    "    ax.set_xlim([195, 275])\n",
    "    ax.set_ylim([195, 275])\n",
    "\n",
    "    ax.legend(loc='lower right')\n",
    "    \n",
    "plt.xlabel('Observed TB (K)')\n",
    "\n",
    "plt.tight_layout()\n",
    "plt.show()\n",
    "\n",
    "fig.savefig('Fig6c.png')"
   ]
  },
  {
   "cell_type": "markdown",
   "metadata": {},
   "source": [
    "### Calculate error statistics"
   ]
  },
  {
   "cell_type": "code",
   "execution_count": null,
   "metadata": {},
   "outputs": [],
   "source": [
    "# Mean Error (H, V)\n",
    "print ('Mean Error (H, V)')\n",
    "\n",
    "[print (microstructure_short_labels()[m], np.round(me(dfobs.sel(polarization='H').to_array(), result.TbH(microstructure=m)),1), \n",
    "        np.round(me(dfobs.sel(polarization='V').to_array(), result.TbV(microstructure=m)),1)) for m in result.Tb().microstructure.values]"
   ]
  },
  {
   "cell_type": "code",
   "execution_count": null,
   "metadata": {},
   "outputs": [],
   "source": [
    "# Root Mean Squared Error (H, V)\n",
    "print ('Root Mean Squared Error (H, V)')\n",
    "[print (microstructure_short_labels()[m], np.round(rmse(dfobs.sel(polarization='H').to_array(), result.TbH(microstructure=m)),1), \n",
    "        np.round(rmse(dfobs.sel(polarization='V').to_array(), result.TbV(microstructure=m)),1)) for m in result.Tb().microstructure.values]"
   ]
  },
  {
   "cell_type": "markdown",
   "metadata": {},
   "source": [
    "# Look at angular distribution\n",
    "\n",
    "Exponential-type models only (plot looks messy otherwise)"
   ]
  },
  {
   "cell_type": "code",
   "execution_count": null,
   "metadata": {},
   "outputs": [],
   "source": [
    "plt.close('all')\n",
    "plt.rcParams.update({'font.size': 12})\n",
    "fig, ((ax1, ax2), (ax3, ax4)) = plt.subplots(nrows=2, ncols=2, sharex=True)\n",
    "\n",
    "\n",
    "# Only plot for exponential-type models (including all is too messy)\n",
    "mlist = ['Exponential', 'TeubnerStrey', 'GaussianRandomField']\n",
    "\n",
    "# Plot characteristics\n",
    "alf = 0.7 # alpha\n",
    "\n",
    "# 10 GHz\n",
    "plot_angular_passive(10.65e9, ax1)\n",
    "\n",
    "# 18.7 GHz\n",
    "plot_angular_passive(18.7e9, ax2)\n",
    "\n",
    "# 21 GHz\n",
    "plot_angular_passive(21e9, ax3)\n",
    "\n",
    "# 36.5 GHz\n",
    "plot_angular_passive(36.5e9, ax4)\n",
    "\n",
    "fig.text(0.5, 0.04, 'Incidence angle (degrees)', ha='center', fontsize=12)\n",
    "fig.text(0.04, 0.5, 'Brightness Temperature (K)', va='center', rotation='vertical', fontsize=12)\n",
    "\n",
    "# Remove right hand side y axis labels\n",
    "ax2.set_yticklabels([])\n",
    "ax4.set_yticklabels([])\n",
    "\n",
    "# Put frequency labels on graphs\n",
    "ax1.text(30, 210, '(a) 10.65$\\,$GHz', fontsize=12)\n",
    "ax2.text(30, 210, '(b) 18.7$\\,$GHz', fontsize=12)\n",
    "ax3.text(30, 210, '(c) 21$\\,$GHz', fontsize=12)\n",
    "ax4.text(45, 260, '(d) 36.5$\\,$GHz', fontsize=12)\n",
    "\n",
    "# Legend: but change order\n",
    "handles, labels = ax4.get_legend_handles_labels()\n",
    "new_labels = labels[::4] + labels[1::4] + labels[2::4] + labels[3::4]\n",
    "new_handles = handles[::4] + handles[1::4] + handles[2::4] + handles[3::4]\n",
    "fig.legend(new_handles, new_labels, 'upper center', bbox_to_anchor=(0.5, 1.01),\n",
    "          ncol=4, fancybox=True, fontsize=12)\n",
    "fig.tight_layout(rect=[0.05,0.05,1,0.9])\n",
    "\n",
    "\n",
    "fig.savefig('Fig10.png')"
   ]
  },
  {
   "cell_type": "markdown",
   "metadata": {},
   "source": [
    "# Experiment to reduce number of layers\n",
    "\n",
    "Test 10GHz: this will be most sensitive"
   ]
  },
  {
   "cell_type": "code",
   "execution_count": null,
   "metadata": {},
   "outputs": [],
   "source": [
    "# Low resolution\n",
    "snowpack_low = make_snowpack(low_res(thickness, thickness=True), \"exponential\", density=low_res(mdf.density.values), \n",
    "                             temperature=low_res(temperature), corr_length=low_res(mdf.l_ex.values), substrate=substrate)\n",
    "snowpack_low = atmos + snowpack_low\n",
    "result_low = model.run(radiometer, snowpack_low)"
   ]
  },
  {
   "cell_type": "code",
   "execution_count": null,
   "metadata": {},
   "outputs": [],
   "source": [
    "\n",
    "\n",
    "plt.close('all')\n",
    "fig = plt.figure(figsize=(6,10))\n",
    "spec = gridspec.GridSpec(ncols=2, nrows=2, wspace=0.05, hspace=0.2)\n",
    "\n",
    "ax1 = fig.add_subplot(spec[0,0])\n",
    "ax2 = fig.add_subplot(spec[0,1])\n",
    "ax3 = fig.add_subplot(spec[1,:])\n",
    "\n",
    "# l_ex\n",
    "ax1.plot(mdf.l_ex * 1e3, calc_layer_heights(thickness), 'k', alpha=0.4, label='n=320')\n",
    "ax1.plot(low_res(mdf.l_ex.values) * 1e3, calc_layer_heights(low_res(thickness, thickness=True)), 'kx', label='n=16')\n",
    "ax1.legend(title='l_ex', loc='lower left')\n",
    "ax1.text(0.1, -0.7, '(a)')\n",
    "ax1.legend(loc=\"upper right\")\n",
    "ax1.set_ylabel('Layer depth from snow surface [m]')\n",
    "ax1.set_xlabel('l$_{ex}$ [mm]')\n",
    "\n",
    "# density\n",
    "ax2.plot(mdf.density, calc_layer_heights(thickness),'k', label='HR', alpha=0.4)\n",
    "ax2.plot(low_res(mdf.density.values), calc_layer_heights(low_res(thickness, thickness=True)), 'kx', label='LR')\n",
    "ax2.set_xlabel('Density [kg m$^{-3}$]')\n",
    "ax2.text(100, -0.7, '(b)')\n",
    "ax2.set_yticklabels([])\n",
    "\n",
    "# TB\n",
    "ax3.errorbar(theta, dfobs.sel(polarization='V', frequency=10.65e9).to_array().squeeze(), marker='*', color='k', linestyle='-', yerr=1, label='V-obs', markersize=12)\n",
    "ax3.errorbar(theta, dfobs.sel(polarization='H', frequency=10.65e9).to_array().squeeze(), marker='*', color='k', linestyle='--', yerr=1, label='H-obs', alpha=0.4, markersize=12)\n",
    "ax3.plot(theta, result.TbV(frequency=10.65e9, microstructure='Exponential'), 'rX-', label='V (n=320)')\n",
    "ax3.plot(theta, result.TbH(frequency=10.65e9, microstructure='Exponential'), 'rX--', label='H (n=320)', alpha=0.4)\n",
    "ax3.plot(theta, result_low.TbV(frequency=10.65e9), 'X-', c='orange', label='V (n=16)')\n",
    "ax3.plot(theta, result_low.TbH(frequency=10.65e9), 'X--', c='orange', label='H (n=16)', alpha=0.4)\n",
    "ax3.text(50, 242, '(c)')\n",
    "ax3.legend(loc='lower left')\n",
    "ax3.set_xlabel('Incidence angle [degrees]')\n",
    "ax3.set_ylabel('Brightness Temperature [K]')\n",
    "\n",
    "fig.savefig('Fig11.png')"
   ]
  },
  {
   "cell_type": "markdown",
   "metadata": {},
   "source": [
    "# Active simulations"
   ]
  },
  {
   "cell_type": "code",
   "execution_count": null,
   "metadata": {},
   "outputs": [],
   "source": [
    "# Rebuild snowpacks with different substrate\n",
    "# NB no information on soil contribution to backscatter\n",
    "soilsigma = make_reflector(temperature=temperature[-1], specular_reflection=0., \n",
    "#                           backscattering_coefficient={'VV': 0.1, 'HH': 0.1}) # -10dB\n",
    "                           backscattering_coefficient={'VV': 0.05, 'HH': 0.05}) # -13dB\n",
    "#                           backscattering_coefficient={'VV': 0.03, 'HH': 0.03}) # -15dB\n",
    "\n",
    "# Make snowpacks\n",
    "a_snowpack_exp = make_snowpack(low_res(thickness, thickness=True), \"exponential\", \n",
    "                             density=low_res(mdf.density.values), temperature=low_res(temperature), \n",
    "                             corr_length=low_res(mdf.l_ex.values), substrate=soilsigma)\n",
    "\n",
    "a_snowpack_shs = make_snowpack(low_res(thickness, thickness=True), microstructure_model=\"sticky_hard_spheres\",\n",
    "                            density=low_res(mdf.density.values), temperature=low_res(temperature), \n",
    "                            radius=(low_res(mdf.d_shs.values) / 2.), \n",
    "                            stickiness=low_res(mdf.tau.values), substrate=soilsigma)\n",
    "\n",
    "a_snowpack_ind = make_snowpack(low_res(thickness, thickness=True), microstructure_model=\"independent_sphere\",\n",
    "                            density=low_res(mdf.density.values), temperature=low_res(temperature), \n",
    "                            radius=(low_res(mdf.d_sph.values) / 2.), substrate=soilsigma)\n",
    "\n",
    "a_snowpack_ts = make_snowpack(low_res(thickness, thickness=True), microstructure_model=\"teubner_strey\", \n",
    "                            density=low_res(mdf.density.values), temperature=low_res(temperature), \n",
    "                            corr_length=low_res(mdf.xi_ts.values), repeat_distance=low_res(mdf.domain_ts.values),\n",
    "                            substrate=soilsigma)\n",
    "\n",
    "a_snowpack_grf = make_snowpack(low_res(thickness, thickness=True), microstructure_model=\"gaussian_random_field\",\n",
    "                             density=low_res(mdf.density.values), temperature=low_res(temperature), \n",
    "                             corr_length=low_res(mdf.xi_grf.values), repeat_distance=low_res(mdf.domain_grf.values),\n",
    "                             substrate=soilsigma)\n",
    "\n",
    "active_snowpacks = [a_snowpack_exp, a_snowpack_shs, a_snowpack_ind, a_snowpack_ts, a_snowpack_grf]\n",
    "# Collect labels for snowpacks: label by microstructure model\n",
    "snowpack_labels = [active_snowpacks[sp].layers[0].microstructure_model.__name__ for sp in range(len(active_snowpacks))]"
   ]
  },
  {
   "cell_type": "markdown",
   "metadata": {},
   "source": [
    "### Run SMRT"
   ]
  },
  {
   "cell_type": "code",
   "execution_count": null,
   "metadata": {},
   "outputs": [],
   "source": [
    "result_active = model.run(scatterometer, active_snowpacks, snowpack_dimension=('microstructure', snowpack_labels))"
   ]
  },
  {
   "cell_type": "markdown",
   "metadata": {},
   "source": [
    "### Plot active results"
   ]
  },
  {
   "cell_type": "code",
   "execution_count": null,
   "metadata": {},
   "outputs": [],
   "source": [
    "# Plot co-pol\n",
    "# 10.2 GHz\n",
    "plt.close()\n",
    "alf=0.7\n",
    "\n",
    "fig, ((ax1, ax2, ax3)) = plt.subplots(nrows=1, ncols=3, figsize=(10,5))\n",
    "\n",
    "plt.rc('axes', titlesize=14)     # fontsize of the axes title\n",
    "plt.rc('axes', labelsize=14)    # fontsize of the x and y labels\n",
    "\n",
    "# 10.2 GHz co\n",
    "plot_active(10.2e9, ax1)\n",
    "ax1.set_ylabel('Co-Polarized Backscatter (dB)')\n",
    "ax1.set_ylim(-21, -10)\n",
    "ax1.text(35, -20, '(a)')\n",
    "#ax1.set_xticklabels([])\n",
    "ax1.set_title(\"10.2 GHz\")\n",
    "ax1.legend(ncol=2, prop={'size': 10})\n",
    "\n",
    "# 13.3 GHz co\n",
    "plot_active(13.3e9, ax2)\n",
    "ax2.text(35, -20, '(b)')\n",
    "ax2.set_ylim(-21, -10)\n",
    "#ax2.set_xticklabels([])\n",
    "ax2.set_yticklabels([])\n",
    "ax2.set_xlabel('Incidence angle (degrees)')\n",
    "ax2.set_title(\"13.3 GHz\")\n",
    "\n",
    "# 16.7 GHz co\n",
    "plot_active(16.7e9, ax3)\n",
    "ax3.text(35, -20, '(c)')\n",
    "ax3.set_ylim(-21, -10)\n",
    "#ax3.set_xticklabels([])\n",
    "ax3.set_yticklabels([])\n",
    "ax3.set_title(\"16.7 GHz\")\n",
    "\n",
    "fig.tight_layout()\n",
    "\n",
    "fig.subplots_adjust(hspace=0.05, wspace=0.05)\n",
    "fig.savefig('Fig12.png')"
   ]
  },
  {
   "cell_type": "code",
   "execution_count": null,
   "metadata": {},
   "outputs": [],
   "source": []
  }
 ],
 "metadata": {
  "kernelspec": {
   "display_name": "Python 3",
   "language": "python",
   "name": "python3"
  },
  "language_info": {
   "codemirror_mode": {
    "name": "ipython",
    "version": 3
   },
   "file_extension": ".py",
   "mimetype": "text/x-python",
   "name": "python",
   "nbconvert_exporter": "python",
   "pygments_lexer": "ipython3",
   "version": "3.8.5"
  }
 },
 "nbformat": 4,
 "nbformat_minor": 4
}
