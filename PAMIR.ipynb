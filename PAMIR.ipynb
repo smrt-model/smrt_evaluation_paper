{
 "cells": [
  {
   "cell_type": "markdown",
   "metadata": {},
   "source": [
    "# This notebook provides model runs for the PAMIR dataset\n",
    "\n",
    "## It generates figures 4, 6b and 9"
   ]
  },
  {
   "cell_type": "code",
   "execution_count": null,
   "metadata": {},
   "outputs": [],
   "source": [
    "# Import statements\n",
    "import os\n",
    "import numpy as np\n",
    "import pandas as pd\n",
    "import matplotlib.pyplot as plt\n",
    "import xarray as xr\n",
    "from matplotlib.lines import Line2D\n",
    "from matplotlib import gridspec\n",
    "from scipy.stats import linregress\n",
    "from copy import deepcopy\n",
    "\n",
    "# local SMRT import\n",
    "from smrt import make_snowpack, make_model, sensor, make_atmosphere\n",
    "from smrt.substrate.reflector import make_reflector\n",
    "from smrt.core.globalconstants import DENSITY_OF_ICE, FREEZING_POINT\n",
    "\n",
    "# Evaluation paper import\n",
    "from common_functions import symmetrize_microstructure, microstructure_colour_list, microstructure_symbols\n",
    "from common_functions import microstructure_short_labels, me, rmse, get_microstructure_fits"
   ]
  },
  {
   "cell_type": "markdown",
   "metadata": {},
   "source": [
    "### Read in field data"
   ]
  },
  {
   "cell_type": "code",
   "execution_count": null,
   "metadata": {},
   "outputs": [],
   "source": [
    "# Microstructure\n",
    "f09 = 'data/PAMIR/1984May9sections_EMMS_acf_parameters_v1.1.csv' #v1.2 has free-varying C(0)\n",
    "f10 = 'data/PAMIR/1984May10sections_EMMS_acf_parameters_v1.1.csv'\n",
    "\n",
    "df_pamir09 = symmetrize_microstructure(f09)\n",
    "df_pamir10 = symmetrize_microstructure(f10)"
   ]
  },
  {
   "cell_type": "code",
   "execution_count": null,
   "metadata": {},
   "outputs": [],
   "source": [
    "# Layer thickness\n",
    "def add_pamir_layer_thickness(df, depths):\n",
    "    # This calculates maximum layer thicknesses from data handwritten in image files\n",
    "    # Calculates thickness from layer boundaries\n",
    "    df['layer_depth'] = pd.Series(depths)\n",
    "    df['layer_thickness'] = df.layer_depth.diff()\n",
    "    df.loc[0,'layer_thickness'] = depths[0] # Diff gives NaN for 1st layer, calcs difference for others\n",
    "    return df\n",
    "\n",
    "# Specify layer depths from 1984May9sections.jpg and 1984May10sections.jpg files\n",
    "layer_depths09 = [3.60e-2, 6.66e-2, 9.62e-2, 12.63e-2, 15.5e-2]\n",
    "layer_depths10 = [3.06e-2, 5.97e-2, 8.90e-2, 12.06e-2, 15.12e-2]\n",
    "\n",
    "df_pamir09 = add_pamir_layer_thickness(df_pamir09, layer_depths09)\n",
    "df_pamir10 = add_pamir_layer_thickness(df_pamir10, layer_depths10)"
   ]
  },
  {
   "cell_type": "code",
   "execution_count": null,
   "metadata": {},
   "outputs": [],
   "source": [
    "# Read general datafile - contains TB, refrozen depth etc. as a function of time\n",
    "df_obs = pd.read_csv('data/PAMIR/PAMIR_obs_May84.csv')\n",
    "# Need to change the name of the T10H column to T10.4H\n",
    "df_obs.rename(columns={'T10H':'T10.4H'}, inplace=True)\n",
    "# Remove all observations where refrozen depth is zero (not simulating these and need arrays same length)\n",
    "df_obs = df_obs[df_obs['d(m)'] > 0]"
   ]
  },
  {
   "cell_type": "markdown",
   "metadata": {},
   "source": [
    "## Plot Figure 4 - change in temperature, brightness temperature and refrozen layer depth"
   ]
  },
  {
   "cell_type": "code",
   "execution_count": null,
   "metadata": {},
   "outputs": [],
   "source": [
    "plt.close()\n",
    "fig = plt.figure()\n",
    "spec = gridspec.GridSpec(ncols=1, nrows=2,\n",
    "                         height_ratios=[2, 1])\n",
    "\n",
    "ax1 = fig.add_subplot(spec[0])\n",
    "ax2 = fig.add_subplot(spec[1])\n",
    "\n",
    "# Split two refreezing periods\n",
    "meltpoint = 21\n",
    "ax2.plot(df_obs['Time(h)'][:meltpoint], df_obs['d(m)'][:meltpoint], 'bo-', linewidth=4)\n",
    "ax2.plot(df_obs['Time(h)'][meltpoint:], df_obs['d(m)'][meltpoint:], 'bo-', linewidth=4)\n",
    "\n",
    "ax2.set_xlabel('Time (h)')\n",
    "# Make the y-axis label and tick labels match the line color.\n",
    "ax2.set_ylabel('Refrozen depth (m)')\n",
    "\n",
    "ax1.plot(df_obs['Time(h)'], df_obs['T35V'], 'r^', label='TB35V')\n",
    "ax1.plot(df_obs['Time(h)'], df_obs['Ts(C)'] + FREEZING_POINT, 'r-.', label='Surface T')\n",
    "ax1.set_xticks([])\n",
    "ax1.set_ylabel('Temperature (K)')\n",
    "\n",
    "#plt.title('PAMIR freeze-melt-freeze experiment May 1984')\n",
    "ax1.legend(loc='best')\n",
    "#fig.canvas.layout.width = '600px'\n",
    "\n",
    "plt.show()"
   ]
  },
  {
   "cell_type": "markdown",
   "metadata": {},
   "source": [
    "### Set up simulation configuration"
   ]
  },
  {
   "cell_type": "code",
   "execution_count": null,
   "metadata": {},
   "outputs": [],
   "source": [
    "# PAMIR radiometers\n",
    "rad = sensor.passive([4.9e9, 10.4e9, 21e9, 35e9, 94e9], 50)"
   ]
  },
  {
   "cell_type": "code",
   "execution_count": null,
   "metadata": {},
   "outputs": [],
   "source": [
    "# Set up model\n",
    "model = make_model(\"iba\",\"dort\")"
   ]
  },
  {
   "cell_type": "markdown",
   "metadata": {},
   "source": [
    "### Look at atmosphere"
   ]
  },
  {
   "cell_type": "code",
   "execution_count": null,
   "metadata": {},
   "outputs": [],
   "source": [
    "# Uncomment to look at time-dependency of atmospheric TB\n",
    "#plt.close()\n",
    "#df_obs.plot('Time(h)', ['Ts4.9', 'Ts10', 'Ts21', 'Ts35', 'Ts94'], marker='o')"
   ]
  },
  {
   "cell_type": "markdown",
   "metadata": {},
   "source": [
    "### Make list of snowpacks"
   ]
  },
  {
   "cell_type": "code",
   "execution_count": null,
   "metadata": {},
   "outputs": [],
   "source": [
    "# Create empty array for list of snowpacks\n",
    "all_snowpacks = []\n",
    "# Store all times where some snow is frozen\n",
    "time_list = df_obs[df_obs['d(m)']>0]['Time(h)']\n",
    "# Substrate: is melting snow\n",
    "absorber = make_reflector(specular_reflection=0.04, temperature=FREEZING_POINT)\n",
    "\n",
    "# Loop over time (rows in df_obs)\n",
    "for index, time in df_obs.iterrows():\n",
    "    if (time['Time(h)'] < 40) and (time['d(m)'] > 0.):\n",
    "        # Use 9th May data for first freeze cycle\n",
    "        df = df_pamir09\n",
    "    else:\n",
    "        # Use 10th May for second freeze cycle\n",
    "        df = df_pamir10\n",
    "        \n",
    "    # Calculate number of layers (number of full layers plus a partial layer)\n",
    "    nlayers = (df.layer_depth < time['d(m)']).sum() + 1\n",
    "    nlayers = np.clip(nlayers, 0, 5)  # Maximum of 5 layers: bottom layer will be extended beyond microstructure observations\n",
    "    if time['d(m)'] > 0.:\n",
    "        # Some snow is frozen\n",
    "        thickness = deepcopy(df.layer_thickness[0:nlayers])\n",
    "        thickness[nlayers-1] = time['d(m)'] - df.layer_thickness[0:nlayers-1].sum()  # NB referring to index [-1] causes overwrite in df09.depth\n",
    "        density = df['density'][0:nlayers]\n",
    "        d_shs = df['d_shs'][0:nlayers]\n",
    "        tau = df['tau'][0:nlayers]\n",
    "        # y-component assumed to be same as x-component\n",
    "        l_ex = df['l_ex'][0:nlayers]\n",
    "        d_sph = df['d_sph'][0:nlayers]\n",
    "        xi_ts = df['xi_ts'][0:nlayers]\n",
    "        domain_ts = df['domain_ts'][0:nlayers]\n",
    "        xi_grf = df['xi_grf'][0:nlayers]\n",
    "        domain_grf = df['domain_grf'][0:nlayers]\n",
    "        temperature_half_interval = 0.5 * time['Ts(C)'] / nlayers\n",
    "        temperature_in_c = np.linspace(time['Ts(C)'] - temperature_half_interval, temperature_half_interval, nlayers)\n",
    "        temperature = temperature_in_c + FREEZING_POINT\n",
    "        \n",
    "        # Atmosphere\n",
    "        tbdown = {4.9e9 : time['Ts4.9'], 10.4e9 : time['Ts10'], 21e9 : time['Ts21'],\n",
    "          35e9 : time['Ts35'], 94e9 : time['Ts94']}\n",
    "        atmos = make_atmosphere('simple_isotropic_atmosphere', tbdown=tbdown)\n",
    "        \n",
    "        # Set up snowpacks\n",
    "        snowpack_shs = atmos + make_snowpack(thickness=thickness,\n",
    "                         microstructure_model=\"sticky_hard_spheres\",\n",
    "                         temperature=temperature,\n",
    "                         density=density,\n",
    "                         radius=(d_shs / 2.),\n",
    "                         stickiness=tau,\n",
    "                         substrate=absorber)\n",
    "        snowpack_exp = atmos + make_snowpack(thickness=thickness,\n",
    "                         microstructure_model=\"exponential\",\n",
    "                         temperature=temperature,\n",
    "                         density=density,\n",
    "                         corr_length=l_ex,\n",
    "                         substrate=absorber)\n",
    "        snowpack_ind = atmos + make_snowpack(thickness=thickness,\n",
    "                         microstructure_model=\"independent_sphere\",\n",
    "                         temperature=temperature,\n",
    "                         density=density,\n",
    "                         radius=(d_sph / 2.),\n",
    "                         substrate=absorber)\n",
    "        snowpack_ts = atmos + make_snowpack(thickness=thickness,\n",
    "                         microstructure_model=\"teubner_strey\",\n",
    "                         temperature=temperature,\n",
    "                         density=density,\n",
    "                         corr_length=xi_ts,\n",
    "                         repeat_distance=domain_ts,\n",
    "                         substrate=absorber)\n",
    "        snowpack_grf = atmos + make_snowpack(thickness=thickness,\n",
    "                         microstructure_model=\"gaussian_random_field\",\n",
    "                         temperature=temperature,\n",
    "                         density=density,\n",
    "                         corr_length=xi_grf,\n",
    "                         repeat_distance=domain_grf,\n",
    "                         substrate=absorber)\n",
    "        all_snowpacks.append([snowpack_exp, snowpack_shs, snowpack_ind, snowpack_ts, snowpack_grf])\n",
    "\n",
    "# Flatten list of lists\n",
    "snowpacks = [item for sublist in all_snowpacks for item in sublist]"
   ]
  },
  {
   "cell_type": "markdown",
   "metadata": {},
   "source": [
    "### Run model"
   ]
  },
  {
   "cell_type": "code",
   "execution_count": null,
   "metadata": {},
   "outputs": [],
   "source": [
    "result_exp = model.run(rad, snowpacks[::5], snowpack_dimension=('time', time_list))"
   ]
  },
  {
   "cell_type": "code",
   "execution_count": null,
   "metadata": {},
   "outputs": [],
   "source": [
    "result_shs = model.run(rad, snowpacks[1::5], snowpack_dimension=('time', time_list))"
   ]
  },
  {
   "cell_type": "code",
   "execution_count": null,
   "metadata": {},
   "outputs": [],
   "source": [
    "result_ind = model.run(rad, snowpacks[2::5], snowpack_dimension=('time', time_list))"
   ]
  },
  {
   "cell_type": "code",
   "execution_count": null,
   "metadata": {},
   "outputs": [],
   "source": [
    "result_ts = model.run(rad, snowpacks[3::5], snowpack_dimension=('time', time_list))"
   ]
  },
  {
   "cell_type": "code",
   "execution_count": null,
   "metadata": {},
   "outputs": [],
   "source": [
    "result_grf = model.run(rad, snowpacks[4::5], snowpack_dimension=('time', time_list))"
   ]
  },
  {
   "cell_type": "code",
   "execution_count": null,
   "metadata": {},
   "outputs": [],
   "source": [
    "result_list = [result_exp, result_shs, result_ind, result_ts, result_grf]"
   ]
  },
  {
   "cell_type": "code",
   "execution_count": null,
   "metadata": {},
   "outputs": [],
   "source": [
    "microstructure_list = [snowpacks[sp].layers[0].microstructure_model.__name__ for sp in range(5)]"
   ]
  },
  {
   "cell_type": "markdown",
   "metadata": {},
   "source": [
    "### Plot results - Figure 6b"
   ]
  },
  {
   "cell_type": "code",
   "execution_count": null,
   "metadata": {},
   "outputs": [],
   "source": [
    "fig, (axv, axh) = plt.subplots(nrows=2, ncols=1, sharex=True, figsize=(6,12))\n",
    "plt.rcParams.update({'font.size': 16})\n",
    "\n",
    "def get_obs_labels(f, pol):\n",
    "    # Generate column names to refer to observation data frame\n",
    "    # Will be of format e.g. 'T4.9V'\n",
    "    f_ghz = f / 1e9\n",
    "    if f_ghz.is_integer(): f_ghz = int(f_ghz)\n",
    "    # Generate obs label\n",
    "    return ('T' + str(f_ghz) + pol)\n",
    "    \n",
    "    \n",
    "# Loop over frequencies\n",
    "for f in rad.frequency:\n",
    "\n",
    "    # Get column names for observation dataframe\n",
    "    v_string = get_obs_labels(f, 'V')\n",
    "    h_string = get_obs_labels(f, 'H')\n",
    "   \n",
    "    # Plot V pol for each microstructure model\n",
    "    [axv.scatter(df_obs[v_string], result_list[i].TbV(frequency=f), c=microstructure_colour_list()[m],\n",
    "                  label=microstructure_short_labels()[m], alpha=0.7, \n",
    "                 marker=microstructure_symbols()[m]) for i,m in enumerate(microstructure_list)]\n",
    "    # Plot H pol for each microstructure model\n",
    "    [axh.scatter(df_obs[h_string], result_list[i].TbH(frequency=f), c=microstructure_colour_list()[m],\n",
    "                  marker=microstructure_symbols()[m], alpha=0.7) for i,m in enumerate(microstructure_list)]   \n",
    "\n",
    "\n",
    "#1-1 line\n",
    "x = np.linspace(100, 270, 10)\n",
    "xticks = np.arange(125, 280, 25)\n",
    "for ax in [axv, axh]:\n",
    "    ax.plot(x,x,'k--', alpha=0.3)\n",
    "    ax.set_xticks(xticks)\n",
    "    ax.set_yticks(xticks)\n",
    "    ax.set_xlim([110, 275])\n",
    "    ax.set_ylim([110, 275])\n",
    "    \n",
    "plt.xlabel('Observed TB (K)')\n",
    "plt.tight_layout()\n",
    "plt.show()\n",
    "\n",
    "fig.savefig('Fig6b.png')"
   ]
  },
  {
   "cell_type": "markdown",
   "metadata": {},
   "source": [
    "#### Calculate Error Statistics"
   ]
  },
  {
   "cell_type": "code",
   "execution_count": null,
   "metadata": {},
   "outputs": [],
   "source": [
    "# V-pol RMSE\n",
    "# Make time the index: need to make sure coords are same as for simulations\n",
    "obs = df_obs.to_xarray().set_index(index='Time(h)').rename({'index':'time'})\n",
    "\n",
    "# Make frequency a dimension - want in same format as results so can calculate ME / RMSE\n",
    "obs.coords['frequency'] = rad.frequency\n",
    "# Extract just H-pol data\n",
    "Hobs = xr.concat([obs['T4.9H'], obs['T10.4H'], obs['T21H'], obs['T35H'], obs['T94H']], dim='frequency')\n",
    "Hobs.coords['frequency'] = rad.frequency\n",
    "# Extract just V-pol data\n",
    "Vobs = xr.concat([obs['T4.9V'], obs['T10.4V'], obs['T21V'], obs['T35V'], obs['T94V']], dim='frequency')\n",
    "Vobs.coords['frequency'] = rad.frequency"
   ]
  },
  {
   "cell_type": "code",
   "execution_count": null,
   "metadata": {},
   "outputs": [],
   "source": [
    "# ME (H, V)\n",
    "print ('\\nMean Error')\n",
    "[print (microstructure_short_labels()[m], np.round(me(Hobs, result_list[i].TbH()),1), \n",
    "        np.round(me(Vobs, result_list[i].TbV()),1)) for i,m in enumerate(microstructure_list)]"
   ]
  },
  {
   "cell_type": "code",
   "execution_count": null,
   "metadata": {},
   "outputs": [],
   "source": [
    "# ME (H, V)\n",
    "print ('\\nMean Error')\n",
    "[print (microstructure_short_labels()[m], np.round(me(Hobs, result_list[i].TbH()),1), \n",
    "        np.round(me(Vobs, result_list[i].TbV()),1)) for i,m in enumerate(microstructure_list)]"
   ]
  },
  {
   "cell_type": "code",
   "execution_count": null,
   "metadata": {},
   "outputs": [],
   "source": [
    "# RMSE (H, V)\n",
    "print ('\\nRoot Mean Squared Error')\n",
    "[print (microstructure_short_labels()[m], np.round(rmse(Hobs, result_list[i].TbH()),1), \n",
    "        np.round(rmse(Vobs, result_list[i].TbV()),1)) for i,m in enumerate(microstructure_list)]"
   ]
  },
  {
   "cell_type": "markdown",
   "metadata": {},
   "source": [
    "## Plot time series - figure 9"
   ]
  },
  {
   "cell_type": "code",
   "execution_count": null,
   "metadata": {},
   "outputs": [],
   "source": [
    "def plot_timeseries(f, pol):\n",
    "    # Split refreezing periods\n",
    "    mp1 = 21\n",
    "    mp2 = 26\n",
    "\n",
    "    # Get column names for observation dataframe\n",
    "    obs_string = get_obs_labels(f, pol)\n",
    "    # Extract res\n",
    "    \n",
    "    # Set plot characteristics\n",
    "    ymin = 100\n",
    "    ymax = 275\n",
    "    if pol == 'V':  \n",
    "        alf = 0.7 # Alpha\n",
    "        symb = '*'\n",
    "        plt.yticks(np.arange(ymin, ymax, step=50))\n",
    "        plt.ylabel(str(f / 1e9) + ' GHz ' + 'T$_B$ [K]')\n",
    "        ls = '-' # Line style\n",
    "        edgecolors = None\n",
    "    else:\n",
    "        alf = 0.7\n",
    "        symb = '*'\n",
    "        plt.yticks(np.arange(ymin, ymax, step=50))\n",
    "        plt.gca().axes.yaxis.set_ticklabels([])\n",
    "        ls = '--'\n",
    "        edgecolors = None\n",
    "    ms = 10 # Marker size (observations)\n",
    "    sms = 5 # Marker size (sims)\n",
    "    plt.ylim((100,275))\n",
    "    \n",
    "    # V-pol\n",
    "    # Period 1\n",
    "    plt.plot(df_obs['Time(h)'][:mp1], df_obs[obs_string][:mp1], c='k', alpha = alf, label='Vobs', marker=symb, markersize=ms, linestyle=ls)\n",
    "    [plt.plot(df_obs['Time(h)'][:mp1], result_list[i].Tb(frequency=f, polarization=pol)[:mp1], alpha=alf, linestyle=ls,\n",
    "             c=microstructure_colour_list()[m], label=microstructure_short_labels()[m], \n",
    "              markersize=sms, marker=microstructure_symbols()[m], markeredgecolor=edgecolors) \n",
    "             for i,m in enumerate(microstructure_list)]\n",
    "   # Period 2\n",
    "    plt.plot(df_obs['Time(h)'][mp1:mp2],df_obs[obs_string][mp1:mp2], c='k', alpha = alf, label='Vobs', marker=symb, markersize=ms, linestyle=ls)\n",
    "    [plt.plot(df_obs['Time(h)'][mp1:mp2], result_list[i].Tb(frequency=f, polarization=pol)[mp1:mp2], alpha=alf, linestyle=ls,\n",
    "             c=microstructure_colour_list()[m], label=microstructure_short_labels()[m], \n",
    "              markersize=sms, marker=microstructure_symbols()[m], markeredgecolor=edgecolors) \n",
    "             for i,m in enumerate(microstructure_list)]\n",
    "   # Period 3\n",
    "    plt.plot(df_obs['Time(h)'][mp2:],df_obs[obs_string][mp2:], c='k', alpha = alf, label='Vobs', marker=symb, markersize=ms, linestyle=ls)\n",
    "    [plt.plot(df_obs['Time(h)'][mp2:], result_list[i].Tb(frequency=f, polarization=pol)[mp2:], alpha=alf, linestyle=ls,\n",
    "             c=microstructure_colour_list()[m], label=microstructure_short_labels()[m], \n",
    "              markersize=sms, marker=microstructure_symbols()[m], markeredgecolor=edgecolors) \n",
    "          for i,m in enumerate(microstructure_list)]\n",
    "\n",
    "    # Put legend and title on 4.9 GHz plots\n",
    "    if f == 4.9e9:\n",
    "        legend = [Line2D([0], [0], marker=symb, color='k', linestyle=ls, markerfacecolor='k', label='Obs', alpha=alf,\n",
    "                        markersize=ms)] + [Line2D([0], [0], marker=microstructure_symbols()[m], color=microstructure_colour_list()[m], linestyle=ls,\n",
    "                        markerfacecolor=microstructure_colour_list()[m], markersize=8,\n",
    "                        label=microstructure_short_labels()[m], alpha=alf, markeredgecolor=edgecolors) \n",
    "                        for m in microstructure_list]\n",
    "        plt.legend(handles=legend, loc='lower center', ncol=3)\n",
    "        plt.title(pol + ' polarization')\n",
    "        \n",
    "    # Put x label on 94GHz plots\n",
    "    if f == 94e9:\n",
    "        plt.xlabel('Time [hours]')\n",
    "    "
   ]
  },
  {
   "cell_type": "code",
   "execution_count": null,
   "metadata": {},
   "outputs": [],
   "source": [
    "# Plot PAMIR time-series\n",
    "plt.close()\n",
    "plt.rcParams.update({'font.size': 12})\n",
    "fig = plt.figure(constrained_layout=False,figsize=(10,12))\n",
    "spec = fig.add_gridspec(ncols=2, nrows=5, wspace=0.05, hspace=0.05)\n",
    "\n",
    "# Col 1: V-pol\n",
    "for i, freq in enumerate(rad.frequency):\n",
    "    fig.add_subplot(spec[i,0])\n",
    "    plot_timeseries(freq, 'V')\n",
    "\n",
    "# Col 2: H-pol\n",
    "for i, freq in enumerate(rad.frequency):\n",
    "    fig.add_subplot(spec[i,1])\n",
    "    plot_timeseries(freq, 'H')\n",
    "    \n",
    "plt.show()\n",
    "\n",
    "fig.savefig('Fig9.png')\n"
   ]
  },
  {
   "cell_type": "markdown",
   "metadata": {},
   "source": [
    "#### Check Error Statistics for two separate refreeze cycles"
   ]
  },
  {
   "cell_type": "code",
   "execution_count": null,
   "metadata": {},
   "outputs": [],
   "source": [
    "def split_V_results_by_day(result, day):\n",
    "    if day == 1:\n",
    "        return xr.concat([result.TbV(time=t) for t in result.time[:21]], dim='time')\n",
    "    elif day == 2:\n",
    "        return xr.concat([result.TbV(time=t) for t in result.time[21:]], dim='time')\n",
    "    else:\n",
    "        print ('Select day 1 or 2')"
   ]
  },
  {
   "cell_type": "code",
   "execution_count": null,
   "metadata": {},
   "outputs": [],
   "source": [
    "obs1V = xr.concat([Vobs.sel(time=t) for t in Vobs.time[:21]], dim='time')\n",
    "obs2V = xr.concat([Vobs.sel(time=t) for t in Vobs.time[21:]], dim='time')"
   ]
  },
  {
   "cell_type": "code",
   "execution_count": null,
   "metadata": {},
   "outputs": [],
   "source": [
    "# RMSE (V)\n",
    "print ('\\nRoot Mean Squared Error - Day 1')\n",
    "[print (microstructure_short_labels()[m], np.round(rmse(obs1V, split_V_results_by_day(result_list[i], 1)),1)) \n",
    "     for i,m in enumerate(microstructure_list)]\n",
    "\n",
    "print ('\\nRoot Mean Squared Error - Day 2')\n",
    "[print (microstructure_short_labels()[m], np.round(rmse(obs2V, split_V_results_by_day(result_list[i], 2)),1)) \n",
    "     for i,m in enumerate(microstructure_list)]"
   ]
  },
  {
   "cell_type": "markdown",
   "metadata": {},
   "source": [
    "### Compare microstructure fits with TB error"
   ]
  },
  {
   "cell_type": "code",
   "execution_count": null,
   "metadata": {},
   "outputs": [],
   "source": [
    "# Table 3 in paper\n",
    "np.round(get_microstructure_fits(f09),4)"
   ]
  }
 ],
 "metadata": {
  "kernelspec": {
   "display_name": "Python 3",
   "language": "python",
   "name": "python3"
  },
  "language_info": {
   "codemirror_mode": {
    "name": "ipython",
    "version": 3
   },
   "file_extension": ".py",
   "mimetype": "text/x-python",
   "name": "python",
   "nbconvert_exporter": "python",
   "pygments_lexer": "ipython3",
   "version": "3.8.5"
  }
 },
 "nbformat": 4,
 "nbformat_minor": 4
}
